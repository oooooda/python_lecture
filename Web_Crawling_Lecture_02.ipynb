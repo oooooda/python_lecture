{
 "cells": [
  {
   "cell_type": "markdown",
   "metadata": {},
   "source": [
    "# 펭수키워드로네이버뉴스리스트가져오기"
   ]
  },
  {
   "cell_type": "code",
   "execution_count": 8,
   "metadata": {},
   "outputs": [],
   "source": [
    "import requests"
   ]
  },
  {
   "cell_type": "code",
   "execution_count": 13,
   "metadata": {},
   "outputs": [],
   "source": [
    "from bs4 import BeautifulSoup"
   ]
  },
  {
   "cell_type": "markdown",
   "metadata": {},
   "source": [
    "## 1.url 분석하기"
   ]
  },
  {
   "cell_type": "code",
   "execution_count": 10,
   "metadata": {},
   "outputs": [],
   "source": [
    "url='https://search.naver.com/search.naver'\n",
    "params={\n",
    "    'where':'news',\n",
    "    'query':'펭수'\n",
    "}"
   ]
  },
  {
   "cell_type": "markdown",
   "metadata": {},
   "source": [
    "## 2.request보내기"
   ]
  },
  {
   "cell_type": "code",
   "execution_count": 35,
   "metadata": {},
   "outputs": [
    {
     "data": {
      "text/plain": [
       "<Response [200]>"
      ]
     },
     "execution_count": 35,
     "metadata": {},
     "output_type": "execute_result"
    }
   ],
   "source": [
    "resp=requests.get(url,params=params)\n",
    "resp"
   ]
  },
  {
   "cell_type": "markdown",
   "metadata": {},
   "source": [
    "## 3.resp분석하기(soup객체 만들기)"
   ]
  },
  {
   "cell_type": "code",
   "execution_count": 14,
   "metadata": {},
   "outputs": [],
   "source": [
    "soup = BeautifulSoup(resp.content)"
   ]
  },
  {
   "cell_type": "code",
   "execution_count": 16,
   "metadata": {},
   "outputs": [],
   "source": [
    "ul_tag=soup.find('ul',class_='type01')"
   ]
  },
  {
   "cell_type": "markdown",
   "metadata": {},
   "source": [
    "### a만 "
   ]
  },
  {
   "cell_type": "code",
   "execution_count": 21,
   "metadata": {},
   "outputs": [
    {
     "data": {
      "text/plain": [
       "10"
      ]
     },
     "execution_count": 21,
     "metadata": {},
     "output_type": "execute_result"
    }
   ],
   "source": [
    "news_item_tags=ul_tag.find_all('a', class_='_sp_each_title')\n",
    "len(news_item_tags)"
   ]
  },
  {
   "cell_type": "code",
   "execution_count": 22,
   "metadata": {},
   "outputs": [
    {
     "data": {
      "text/plain": [
       "<a class=\"_sp_each_title\" href=\"http://news.wowtv.co.kr/NewsCenter/News/Read?articleId=A202001200329&amp;t=NN\" onclick=\"return goOtherCR(this, 'a=nws*h.tit&amp;r=1&amp;i=88000149_000000000000000000840679&amp;g=215.0000840679&amp;u='+urlencode(this.href));\" target=\"_blank\" title=\"'펭수의 힘' 3만장 팔린 잠옷...&quot;없어서 못 팔아요&quot;\">'<strong class=\"hl\">펭수</strong>의 힘' 3만장 팔린 잠옷...\"없어서 못 팔아요\"</a>"
      ]
     },
     "execution_count": 22,
     "metadata": {},
     "output_type": "execute_result"
    }
   ],
   "source": [
    "news_item_tags[0]"
   ]
  },
  {
   "cell_type": "code",
   "execution_count": 36,
   "metadata": {
    "scrolled": true
   },
   "outputs": [
    {
     "data": {
      "text/plain": [
       "[{'title': '\\'펭수의 힘\\' 3만장 팔린 잠옷...\"없어서 못 팔아요\"',\n",
       "  'link': 'http://news.wowtv.co.kr/NewsCenter/News/Read?articleId=A202001200329&t=NN'},\n",
       " {'title': \"LG생건 샤프란 아우라, 대세 '펭수' 모델로 발탁\",\n",
       "  'link': 'http://www.fnnews.com/news/202001210913104825'},\n",
       " {'title': \"LG생건, 펭수와 손잡았다…'샤프란 아우라' 신규모델 발탁\",\n",
       "  'link': 'http://news1.kr/articles/?3821764'},\n",
       " {'title': \"세종시 들썩인 '펭하'…펭수 오늘 하루 초등 돌봄전담사\",\n",
       "  'link': 'http://www.newsis.com/view/?id=NISX20200120_0000893710&cID=10201&pID=10200'},\n",
       " {'title': '교육부 점령한 펭수, 유은혜에게 “여기 대빵?”',\n",
       "  'link': 'http://news.kmib.co.kr/article/view.asp?arcid=0014149688&code=61121111&cp=nv'},\n",
       " {'title': '스파오 x 펭수, 2차 협업 상품도 주문 폭주',\n",
       "  'link': 'http://www.fashionbiz.co.kr/TN/?cate=2&recom=2&idx=176279'},\n",
       " {'title': '[서소문사진관]교육부로 간 펭수···\"펭하!\"외치며 일일 돌봄전담사로',\n",
       "  'link': 'https://news.joins.com/article/olink/23281342'},\n",
       " {'title': '\\'슈돌\\' 윌리엄 \"펭수 쟤 날개도 작은데\"…감동 안긴 이별 장면',\n",
       "  'link': 'https://www.hankyung.com/entertainment/article/202001208699H'},\n",
       " {'title': \"[리뷰IS] '슈돌' 펭수, 마지막까지 윌벤져스 동심 지켜줬다\",\n",
       "  'link': 'http://isplus.live.joins.com/news/article/article.asp?total_id=23686057'},\n",
       " {'title': '앗! 펭수다', 'link': 'http://yna.kr/PYH20200120079400013?did=1196m'}]"
      ]
     },
     "execution_count": 36,
     "metadata": {},
     "output_type": "execute_result"
    }
   ],
   "source": [
    "news_list=[]\n",
    "#{\n",
    "#    'title':'',\n",
    "#     'link':'url'\n",
    "#}\n",
    "\n",
    "for news in news_item_tags:\n",
    "    title=news.text\n",
    "    #title=news.title\n",
    "    link=news.get('href')\n",
    "    news_list.append(\n",
    "        {\n",
    "            'title':title,\n",
    "            'link':link\n",
    "        }\n",
    "    )\n",
    "news_list"
   ]
  },
  {
   "cell_type": "markdown",
   "metadata": {},
   "source": [
    "### 전체 데이터"
   ]
  },
  {
   "cell_type": "code",
   "execution_count": 30,
   "metadata": {},
   "outputs": [
    {
     "data": {
      "text/plain": [
       "10"
      ]
     },
     "execution_count": 30,
     "metadata": {},
     "output_type": "execute_result"
    }
   ],
   "source": [
    "li_tags=ul_tag.find_all('li',recursive=False) #recursive=False는 li_tag안에 있는 내용은 포함하지 X\n",
    "len(li_tags)"
   ]
  },
  {
   "cell_type": "code",
   "execution_count": 37,
   "metadata": {},
   "outputs": [
    {
     "data": {
      "text/plain": [
       "[{'title': '\\'펭수의 힘\\' 3만장 팔린 잠옷...\"없어서 못 팔아요\"',\n",
       "  'link': 'http://news.wowtv.co.kr/NewsCenter/News/Read?articleId=A202001200329&t=NN',\n",
       "  'desc': \"이랜드월드의 글로벌 SPA 브랜드 '스파오'가 펭수와의 협업으로 대박 행진을 이어가고 있다. 스파오는 지난 17일 출시한 '2020 펭수옷장 공개'의 예약 주문이 출시 후 3일간 누적 3만 장을 돌파했다고 밝혔다. ‘노란색 펭수...\"},\n",
       " {'title': \"LG생건 샤프란 아우라, 대세 '펭수' 모델로 발탁\",\n",
       "  'link': 'http://www.fnnews.com/news/202001210913104825',\n",
       "  'desc': 'LG생활건강은 미세 플라스틱이 없는 섬유유연제 브랜드 ‘샤프란 아우라’의 신규 모델로 대세 크리에이터 ‘펭수’를 발탁했다고 21일 밝혔다. EBS(한국교육방송공사) 연습생인 펭수는 방탄소년단(BTS)과 같은...'},\n",
       " {'title': \"LG생건, 펭수와 손잡았다…'샤프란 아우라' 신규모델 발탁\",\n",
       "  'link': 'http://news1.kr/articles/?3821764',\n",
       "  'desc': \"캐릭터 '펭수'를 발탁했다고 21일 밝혔다. 샤프란 아우라는 수(水) 생태계를 교란하는 향기 캡슐을 넣지... LG생활건강은 앞으로 남극 청정 바다에서 살다 온 설정의 펭수와 섬유유연제 샤프란 아우라의 브랜드 특징을...\"},\n",
       " {'title': \"세종시 들썩인 '펭하'…펭수 오늘 하루 초등 돌봄전담사\",\n",
       "  'link': 'http://www.newsis.com/view/?id=NISX20200120_0000893710&cID=10201&pID=10200',\n",
       "  'desc': '펭수가 20일 초등학교 방과 후 저학년 학생들을 돌보는 초등 돌봄전담사로 나선다. 유은혜 사회부총리 겸 교육부 장관이 펭수를 일일 돌봄전담사로 위촉했다. EBS 스타 크리에이터 펭수는 이날 오전 11시 정부세종청사...'},\n",
       " {'title': '교육부 점령한 펭수, 유은혜에게 “여기 대빵?”',\n",
       "  'link': 'http://news.kmib.co.kr/article/view.asp?arcid=0014149688&code=61121111&cp=nv',\n",
       "  'desc': '“여기 대빵이세요?”(펭수) “어서오세요, 위촉장 받으세요.”(유은혜 부총리 겸 교육부장관) “그게 뭐에요?”(펭수) 한국교육방송공사(EBS) 인기 캐릭터 펭수가 20일 오전 정부세종청사 교육부에 등장하자 로비에...'},\n",
       " {'title': '스파오 x 펭수, 2차 협업 상품도 주문 폭주',\n",
       "  'link': 'http://www.fashionbiz.co.kr/TN/?cate=2&recom=2&idx=176279',\n",
       "  'desc': \"이랜드월드(대표 최운식)의 스파오가 펭수와의 2차 컬래버레이션까지 대박 행진을 이어가고 있다. 지난 17일 출시한 '2020 펭수옷장 공개'의 예약주문이 출시 후 3일간 누적 3만장을 돌파했다. 당초 목표를 크게 웃도는...\"},\n",
       " {'title': '[서소문사진관]교육부로 간 펭수···\"펭하!\"외치며 일일 돌봄전담사로',\n",
       "  'link': 'https://news.joins.com/article/olink/23281342',\n",
       "  'desc': '펭수가 교육부에 떴다! EBS 연습생 펭수가 20일 오전 정부세종청사 교육부에 나타났다. 이날 펭수는 유은혜 부총리 겸 교육부 장관으로부터 일일 초등돌봄 전담사로 위촉장을 받기 위해 교육부를 방문했다. 청사 로비에...'},\n",
       " {'title': '\\'슈돌\\' 윌리엄 \"펭수 쟤 날개도 작은데\"…감동 안긴 이별 장면',\n",
       "  'link': 'https://www.hankyung.com/entertainment/article/202001208699H',\n",
       "  'desc': \"펭수와 이별하며 진한 감동을 안겼다. 지난 19일 방송된 KBS2 '슈퍼맨이 돌아왔다'(이하 '슈돌')에서는 어른들은 상상도 못할 아이들의 순수한 마음이 안방극장을 따스하게 물들였다. 이날 윌리엄, 벤틀리 형제는 펭수와...\"},\n",
       " {'title': \"[리뷰IS] '슈돌' 펭수, 마지막까지 윌벤져스 동심 지켜줬다\",\n",
       "  'link': 'http://isplus.live.joins.com/news/article/article.asp?total_id=23686057',\n",
       "  'desc': \"펭수가 10살 형의 면모를 발휘, 윌리엄과 벤틀리의 동심을 지켜주기 위해 마지막까지 노력했다. 펭벤져스의 귀여운 모습이 보는 이들로 하여금 미소를 짓게 만들었다. 19일 방송된 KBS 2TV '슈퍼맨이 돌아왔다'에는 펭수와...\"},\n",
       " {'title': '앗! 펭수다',\n",
       "  'link': 'http://yna.kr/PYH20200120079400013?did=1196m',\n",
       "  'desc': '지난해 혜성처럼 등장해 대세 행보를 이어가고 있는 EBS 캐릭터 펭수가 20일 오전 세종시 정부세종청사 교육부를 방문하고 있다. 2020.1.20'}]"
      ]
     },
     "execution_count": 37,
     "metadata": {},
     "output_type": "execute_result"
    }
   ],
   "source": [
    "news_list=[]\n",
    "for li_tag in li_tags:\n",
    "    a_tag=li_tag.find('a', class_='_sp_each_title')\n",
    "    title=a_tag.text\n",
    "    link=a_tag.get('href')\n",
    "    \n",
    "    dd_tag=li_tag.find_all('dd')[1]\n",
    "    desc=dd_tag.text\n",
    "    \n",
    "    news_list.append(\n",
    "        {\n",
    "            'title':title,\n",
    "            'link':link,\n",
    "            'desc':desc\n",
    "        }\n",
    "    )\n",
    "news_list"
   ]
  },
  {
   "cell_type": "code",
   "execution_count": null,
   "metadata": {},
   "outputs": [],
   "source": []
  },
  {
   "cell_type": "code",
   "execution_count": null,
   "metadata": {},
   "outputs": [],
   "source": []
  }
 ],
 "metadata": {
  "kernelspec": {
   "display_name": "Python 3",
   "language": "python",
   "name": "python3"
  },
  "language_info": {
   "codemirror_mode": {
    "name": "ipython",
    "version": 3
   },
   "file_extension": ".py",
   "mimetype": "text/x-python",
   "name": "python",
   "nbconvert_exporter": "python",
   "pygments_lexer": "ipython3",
   "version": "3.7.4"
  }
 },
 "nbformat": 4,
 "nbformat_minor": 2
}
