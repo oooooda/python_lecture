{
 "cells": [
  {
   "cell_type": "markdown",
   "metadata": {},
   "source": [
    "# 네이버 주가데이터가져오기(일별 시세)"
   ]
  },
  {
   "cell_type": "code",
   "execution_count": 1,
   "metadata": {},
   "outputs": [],
   "source": [
    "import requests"
   ]
  },
  {
   "cell_type": "code",
   "execution_count": 2,
   "metadata": {},
   "outputs": [],
   "source": [
    "from bs4 import BeautifulSoup"
   ]
  },
  {
   "cell_type": "code",
   "execution_count": 19,
   "metadata": {},
   "outputs": [],
   "source": [
    "url='https://finance.naver.com/item/sise.nhn'\n",
    "params = {\n",
    "    'code' :'005930' \n",
    "}"
   ]
  },
  {
   "cell_type": "code",
   "execution_count": 20,
   "metadata": {},
   "outputs": [
    {
     "data": {
      "text/plain": [
       "<Response [200]>"
      ]
     },
     "execution_count": 20,
     "metadata": {},
     "output_type": "execute_result"
    }
   ],
   "source": [
    "resp=requests.get(url,params=params)\n",
    "resp"
   ]
  },
  {
   "cell_type": "code",
   "execution_count": 21,
   "metadata": {},
   "outputs": [],
   "source": [
    "soup=BeautifulSoup(resp.content)"
   ]
  },
  {
   "cell_type": "code",
   "execution_count": 25,
   "metadata": {},
   "outputs": [],
   "source": [
    "#내용없음\n",
    "tag=soup.find_all(class_='type2')"
   ]
  },
  {
   "cell_type": "markdown",
   "metadata": {},
   "source": [
    "# Iframe주소로 요청"
   ]
  },
  {
   "cell_type": "code",
   "execution_count": 87,
   "metadata": {},
   "outputs": [],
   "source": [
    "url='https://finance.naver.com/item/sise_day.nhn'\n",
    "for i in range(3):\n",
    "    params = {\n",
    "        'code' :'005930', \n",
    "        'page': i+1\n",
    "    }"
   ]
  },
  {
   "cell_type": "code",
   "execution_count": 88,
   "metadata": {},
   "outputs": [],
   "source": [
    "resp=requests.get(url,params=params)\n",
    "soup=BeautifulSoup(resp.content)"
   ]
  },
  {
   "cell_type": "code",
   "execution_count": 92,
   "metadata": {},
   "outputs": [],
   "source": [
    "#table_tag=soup.find_all('table',class_='type2')\n",
    "tr_tag=soup.find_all('tr')"
   ]
  },
  {
   "cell_type": "code",
   "execution_count": 183,
   "metadata": {},
   "outputs": [
    {
     "data": {
      "text/plain": [
       "[{'date': '2019.12.20',\n",
       "  'last_price': '56,000',\n",
       "  'net_change': '0',\n",
       "  'market_price': '56,100',\n",
       "  'high_price': '56,500',\n",
       "  'low_price': '55,600',\n",
       "  'volume': '12,095,519'},\n",
       " {'date': '2019.12.19',\n",
       "  'last_price': '56,000',\n",
       "  'net_change': '하락300',\n",
       "  'market_price': '57,000',\n",
       "  'high_price': '57,300',\n",
       "  'low_price': '55,500',\n",
       "  'volume': '14,180,520'},\n",
       " {'date': '2019.12.18',\n",
       "  'last_price': '56,300',\n",
       "  'net_change': '하락400',\n",
       "  'market_price': '56,700',\n",
       "  'high_price': '57,200',\n",
       "  'low_price': '56,000',\n",
       "  'volume': '15,558,208'},\n",
       " {'date': '2019.12.17',\n",
       "  'last_price': '56,700',\n",
       "  'net_change': '상승2,000',\n",
       "  'market_price': '55,800',\n",
       "  'high_price': '56,700',\n",
       "  'low_price': '55,400',\n",
       "  'volume': '19,358,433'},\n",
       " {'date': '2019.12.16',\n",
       "  'last_price': '54,700',\n",
       "  'net_change': '0',\n",
       "  'market_price': '54,500',\n",
       "  'high_price': '54,900',\n",
       "  'low_price': '54,300',\n",
       "  'volume': '11,512,405'},\n",
       " {'date': '2019.12.13',\n",
       "  'last_price': '54,700',\n",
       "  'net_change': '상승1,400',\n",
       "  'market_price': '54,500',\n",
       "  'high_price': '54,800',\n",
       "  'low_price': '53,900',\n",
       "  'volume': '18,120,261'},\n",
       " {'date': '2019.12.12',\n",
       "  'last_price': '53,300',\n",
       "  'net_change': '상승1,400',\n",
       "  'market_price': '53,000',\n",
       "  'high_price': '53,300',\n",
       "  'low_price': '52,700',\n",
       "  'volume': '29,178,697'},\n",
       " {'date': '2019.12.11',\n",
       "  'last_price': '51,900',\n",
       "  'net_change': '상승400',\n",
       "  'market_price': '51,500',\n",
       "  'high_price': '52,200',\n",
       "  'low_price': '51,400',\n",
       "  'volume': '11,379,521'},\n",
       " {'date': '2019.12.10',\n",
       "  'last_price': '51,500',\n",
       "  'net_change': '상승300',\n",
       "  'market_price': '51,000',\n",
       "  'high_price': '51,600',\n",
       "  'low_price': '50,700',\n",
       "  'volume': '6,882,771'},\n",
       " {'date': '2019.12.09',\n",
       "  'last_price': '51,200',\n",
       "  'net_change': '상승800',\n",
       "  'market_price': '50,900',\n",
       "  'high_price': '51,400',\n",
       "  'low_price': '50,700',\n",
       "  'volume': '8,470,627'},\n",
       " {'date': '\\n\\n맨앞\\n\\t\\t\\t\\t\\n',\n",
       "  'last_price': '\\n1\\n',\n",
       "  'net_change': '2',\n",
       "  'market_price': '\\n3\\n',\n",
       "  'high_price': '\\n4\\n',\n",
       "  'low_price': '\\n5\\n',\n",
       "  'volume': '\\n6\\n'}]"
      ]
     },
     "execution_count": 183,
     "metadata": {},
     "output_type": "execute_result"
    }
   ],
   "source": [
    "result_list=[]\n",
    "for tr in tr_tag:\n",
    "        td_tag = tr.find_all('td')\n",
    "        if len(td_tag)<7:\n",
    "            continue\n",
    "        img=td_tag[2].find('img')\n",
    "        if not img:\n",
    "            img_src = ''\n",
    "            img_alt = ''\n",
    "        else:\n",
    "            img_src = img.get('src')\n",
    "            img_alt = img.get('alt')\n",
    "        result_list.append({\n",
    "            'date': td_tag[0].text,\n",
    "            'last_price': td_tag[1].text,\n",
    "#            'net_change': td_tag[2].text.strip(),\n",
    "            'net_change': img_alt+td_tag[2].text.strip(),\n",
    "            'market_price': td_tag[3].text,\n",
    "            'high_price': td_tag[4].text,\n",
    "            'low_price': td_tag[5].text,\n",
    "            'volume': td_tag[6].text,\n",
    "        })  \n",
    "result_list"
   ]
  },
  {
   "cell_type": "code",
   "execution_count": null,
   "metadata": {},
   "outputs": [],
   "source": []
  },
  {
   "cell_type": "code",
   "execution_count": null,
   "metadata": {},
   "outputs": [],
   "source": []
  },
  {
   "cell_type": "code",
   "execution_count": null,
   "metadata": {},
   "outputs": [],
   "source": []
  },
  {
   "cell_type": "code",
   "execution_count": null,
   "metadata": {},
   "outputs": [],
   "source": []
  }
 ],
 "metadata": {
  "kernelspec": {
   "display_name": "Python 3",
   "language": "python",
   "name": "python3"
  },
  "language_info": {
   "codemirror_mode": {
    "name": "ipython",
    "version": 3
   },
   "file_extension": ".py",
   "mimetype": "text/x-python",
   "name": "python",
   "nbconvert_exporter": "python",
   "pygments_lexer": "ipython3",
   "version": "3.7.4"
  }
 },
 "nbformat": 4,
 "nbformat_minor": 2
}
