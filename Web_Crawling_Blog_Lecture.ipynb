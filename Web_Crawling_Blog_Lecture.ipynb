{
 "cells": [
  {
   "cell_type": "markdown",
   "metadata": {},
   "source": [
    "# 블로그 크롤링(5페이지)"
   ]
  },
  {
   "cell_type": "code",
   "execution_count": 1,
   "metadata": {},
   "outputs": [],
   "source": [
    "import requests"
   ]
  },
  {
   "cell_type": "code",
   "execution_count": 2,
   "metadata": {},
   "outputs": [],
   "source": [
    "from bs4 import BeautifulSoup"
   ]
  },
  {
   "cell_type": "code",
   "execution_count": 13,
   "metadata": {},
   "outputs": [
    {
     "name": "stdout",
     "output_type": "stream",
     "text": [
      "페이지를 입력해 주세요: 1\n",
      "검색어를 입력해 주세요:펭수\n",
      "[{'title': '펭수 짤 배경화면 36종 모음, 펭하!', 'link': 'https://blog.naver.com/nanumi_?Redirect=Log&logNo=221715138412', 'desc': '펭수 짤 배경화면 36종 모음, 펭하! 조금 뜬금없지만 케찹고백할게요. 사실 얼마 전부터 펭수에게 입덕하고 말았어요. 분명 한 달 전만 하더라도 대체 저 펭귄의 매력이...'}]\n",
      "[{'title': '펭수 짤 배경화면 36종 모음, 펭하!', 'link': 'https://blog.naver.com/nanumi_?Redirect=Log&logNo=221715138412', 'desc': '펭수 짤 배경화면 36종 모음, 펭하! 조금 뜬금없지만 케찹고백할게요. 사실 얼마 전부터 펭수에게 입덕하고 말았어요. 분명 한 달 전만 하더라도 대체 저 펭귄의 매력이...'}, {'title': '펭수 달력 B형 저세상 귀여움 ♪', 'link': 'https://blog.naver.com/aimei96?Redirect=Log&logNo=221771127540', 'desc': '펭수 달력 사전예약이 엄청났습니다. 대기숫자가 계속 늘어나서 저는 포기했었는데... 예약신청을 한 절친은 펭수 달력 B형이 도착했는데요. 비타입은 실사로 꾸며져...'}]\n",
      "[{'title': '펭수 짤 배경화면 36종 모음, 펭하!', 'link': 'https://blog.naver.com/nanumi_?Redirect=Log&logNo=221715138412', 'desc': '펭수 짤 배경화면 36종 모음, 펭하! 조금 뜬금없지만 케찹고백할게요. 사실 얼마 전부터 펭수에게 입덕하고 말았어요. 분명 한 달 전만 하더라도 대체 저 펭귄의 매력이...'}, {'title': '펭수 달력 B형 저세상 귀여움 ♪', 'link': 'https://blog.naver.com/aimei96?Redirect=Log&logNo=221771127540', 'desc': '펭수 달력 사전예약이 엄청났습니다. 대기숫자가 계속 늘어나서 저는 포기했었는데... 예약신청을 한 절친은 펭수 달력 B형이 도착했는데요. 비타입은 실사로 꾸며져...'}, {'title': '펭수달력 지마켓 환불하고 결국 교보문고에서 샀음', 'link': 'https://blog.naver.com/psr909?Redirect=Log&logNo=221770607343', 'desc': '넘나 귀여운 펭수달력 리뷰에 앞서 지마켓 예약판매 대행사인 클락워크의 개똥같은 일처리로 빡쳤던 그간의 일들을 주욱 적어보고자 한다 (우리 펭수는 잘못없음...'}]\n",
      "[{'title': '펭수 짤 배경화면 36종 모음, 펭하!', 'link': 'https://blog.naver.com/nanumi_?Redirect=Log&logNo=221715138412', 'desc': '펭수 짤 배경화면 36종 모음, 펭하! 조금 뜬금없지만 케찹고백할게요. 사실 얼마 전부터 펭수에게 입덕하고 말았어요. 분명 한 달 전만 하더라도 대체 저 펭귄의 매력이...'}, {'title': '펭수 달력 B형 저세상 귀여움 ♪', 'link': 'https://blog.naver.com/aimei96?Redirect=Log&logNo=221771127540', 'desc': '펭수 달력 사전예약이 엄청났습니다. 대기숫자가 계속 늘어나서 저는 포기했었는데... 예약신청을 한 절친은 펭수 달력 B형이 도착했는데요. 비타입은 실사로 꾸며져...'}, {'title': '펭수달력 지마켓 환불하고 결국 교보문고에서 샀음', 'link': 'https://blog.naver.com/psr909?Redirect=Log&logNo=221770607343', 'desc': '넘나 귀여운 펭수달력 리뷰에 앞서 지마켓 예약판매 대행사인 클락워크의 개똥같은 일처리로 빡쳤던 그간의 일들을 주욱 적어보고자 한다 (우리 펭수는 잘못없음...'}, {'title': '[영어회화] 펭수가 뭐길래!- #펭수어록 영어로', 'link': 'https://blog.naver.com/ktri8888?Redirect=Log&logNo=221742178747', 'desc': '#사회이슈 _ #펭수 가 뭐길래! #펭수어록 #펭수명언 #펭수말 #펭수짤 #펭수사진 안녕하세요. 11월, 12월이 하는 것 없이 바쁜 달 중에 하나같아요. 오랜 친구들의...'}]\n",
      "[{'title': '펭수 짤 배경화면 36종 모음, 펭하!', 'link': 'https://blog.naver.com/nanumi_?Redirect=Log&logNo=221715138412', 'desc': '펭수 짤 배경화면 36종 모음, 펭하! 조금 뜬금없지만 케찹고백할게요. 사실 얼마 전부터 펭수에게 입덕하고 말았어요. 분명 한 달 전만 하더라도 대체 저 펭귄의 매력이...'}, {'title': '펭수 달력 B형 저세상 귀여움 ♪', 'link': 'https://blog.naver.com/aimei96?Redirect=Log&logNo=221771127540', 'desc': '펭수 달력 사전예약이 엄청났습니다. 대기숫자가 계속 늘어나서 저는 포기했었는데... 예약신청을 한 절친은 펭수 달력 B형이 도착했는데요. 비타입은 실사로 꾸며져...'}, {'title': '펭수달력 지마켓 환불하고 결국 교보문고에서 샀음', 'link': 'https://blog.naver.com/psr909?Redirect=Log&logNo=221770607343', 'desc': '넘나 귀여운 펭수달력 리뷰에 앞서 지마켓 예약판매 대행사인 클락워크의 개똥같은 일처리로 빡쳤던 그간의 일들을 주욱 적어보고자 한다 (우리 펭수는 잘못없음...'}, {'title': '[영어회화] 펭수가 뭐길래!- #펭수어록 영어로', 'link': 'https://blog.naver.com/ktri8888?Redirect=Log&logNo=221742178747', 'desc': '#사회이슈 _ #펭수 가 뭐길래! #펭수어록 #펭수명언 #펭수말 #펭수짤 #펭수사진 안녕하세요. 11월, 12월이 하는 것 없이 바쁜 달 중에 하나같아요. 오랜 친구들의...'}, {'title': '기저귀 펭수닮은 슈퍼대디 미스터펭 추천', 'link': 'https://blog.naver.com/cokcok564?Redirect=Log&logNo=221777990206', 'desc': '펭수가 진짜 핫하던데 남편이랑 저는 처음에 아는형님에서 나오는거 보고 저 펭귄은 뭐야 , (육아 하느라 아무것도 모름) 했는데 남편은 어느순간 푹 빠져서 펭수팬...'}]\n",
      "[{'title': '펭수 짤 배경화면 36종 모음, 펭하!', 'link': 'https://blog.naver.com/nanumi_?Redirect=Log&logNo=221715138412', 'desc': '펭수 짤 배경화면 36종 모음, 펭하! 조금 뜬금없지만 케찹고백할게요. 사실 얼마 전부터 펭수에게 입덕하고 말았어요. 분명 한 달 전만 하더라도 대체 저 펭귄의 매력이...'}, {'title': '펭수 달력 B형 저세상 귀여움 ♪', 'link': 'https://blog.naver.com/aimei96?Redirect=Log&logNo=221771127540', 'desc': '펭수 달력 사전예약이 엄청났습니다. 대기숫자가 계속 늘어나서 저는 포기했었는데... 예약신청을 한 절친은 펭수 달력 B형이 도착했는데요. 비타입은 실사로 꾸며져...'}, {'title': '펭수달력 지마켓 환불하고 결국 교보문고에서 샀음', 'link': 'https://blog.naver.com/psr909?Redirect=Log&logNo=221770607343', 'desc': '넘나 귀여운 펭수달력 리뷰에 앞서 지마켓 예약판매 대행사인 클락워크의 개똥같은 일처리로 빡쳤던 그간의 일들을 주욱 적어보고자 한다 (우리 펭수는 잘못없음...'}, {'title': '[영어회화] 펭수가 뭐길래!- #펭수어록 영어로', 'link': 'https://blog.naver.com/ktri8888?Redirect=Log&logNo=221742178747', 'desc': '#사회이슈 _ #펭수 가 뭐길래! #펭수어록 #펭수명언 #펭수말 #펭수짤 #펭수사진 안녕하세요. 11월, 12월이 하는 것 없이 바쁜 달 중에 하나같아요. 오랜 친구들의...'}, {'title': '기저귀 펭수닮은 슈퍼대디 미스터펭 추천', 'link': 'https://blog.naver.com/cokcok564?Redirect=Log&logNo=221777990206', 'desc': '펭수가 진짜 핫하던데 남편이랑 저는 처음에 아는형님에서 나오는거 보고 저 펭귄은 뭐야 , (육아 하느라 아무것도 모름) 했는데 남편은 어느순간 푹 빠져서 펭수팬...'}, {'title': '펭수 짤 보면서 힐링해보아요 :D', 'link': 'https://blog.naver.com/zldnld99?Redirect=Log&logNo=221736833354', 'desc': '우리 펭수 짤 두번째 글로 와봤어요 ♥ 다들 아시겠지만 아이돌이든 뭐든 입덕기가 있잖아요? 우리 펭수도 마찬가진데 다들 이런식으로 입덕하셨을거에요. 참고로 저는...'}]\n",
      "[{'title': '펭수 짤 배경화면 36종 모음, 펭하!', 'link': 'https://blog.naver.com/nanumi_?Redirect=Log&logNo=221715138412', 'desc': '펭수 짤 배경화면 36종 모음, 펭하! 조금 뜬금없지만 케찹고백할게요. 사실 얼마 전부터 펭수에게 입덕하고 말았어요. 분명 한 달 전만 하더라도 대체 저 펭귄의 매력이...'}, {'title': '펭수 달력 B형 저세상 귀여움 ♪', 'link': 'https://blog.naver.com/aimei96?Redirect=Log&logNo=221771127540', 'desc': '펭수 달력 사전예약이 엄청났습니다. 대기숫자가 계속 늘어나서 저는 포기했었는데... 예약신청을 한 절친은 펭수 달력 B형이 도착했는데요. 비타입은 실사로 꾸며져...'}, {'title': '펭수달력 지마켓 환불하고 결국 교보문고에서 샀음', 'link': 'https://blog.naver.com/psr909?Redirect=Log&logNo=221770607343', 'desc': '넘나 귀여운 펭수달력 리뷰에 앞서 지마켓 예약판매 대행사인 클락워크의 개똥같은 일처리로 빡쳤던 그간의 일들을 주욱 적어보고자 한다 (우리 펭수는 잘못없음...'}, {'title': '[영어회화] 펭수가 뭐길래!- #펭수어록 영어로', 'link': 'https://blog.naver.com/ktri8888?Redirect=Log&logNo=221742178747', 'desc': '#사회이슈 _ #펭수 가 뭐길래! #펭수어록 #펭수명언 #펭수말 #펭수짤 #펭수사진 안녕하세요. 11월, 12월이 하는 것 없이 바쁜 달 중에 하나같아요. 오랜 친구들의...'}, {'title': '기저귀 펭수닮은 슈퍼대디 미스터펭 추천', 'link': 'https://blog.naver.com/cokcok564?Redirect=Log&logNo=221777990206', 'desc': '펭수가 진짜 핫하던데 남편이랑 저는 처음에 아는형님에서 나오는거 보고 저 펭귄은 뭐야 , (육아 하느라 아무것도 모름) 했는데 남편은 어느순간 푹 빠져서 펭수팬...'}, {'title': '펭수 짤 보면서 힐링해보아요 :D', 'link': 'https://blog.naver.com/zldnld99?Redirect=Log&logNo=221736833354', 'desc': '우리 펭수 짤 두번째 글로 와봤어요 ♥ 다들 아시겠지만 아이돌이든 뭐든 입덕기가 있잖아요? 우리 펭수도 마찬가진데 다들 이런식으로 입덕하셨을거에요. 참고로 저는...'}, {'title': '펭수달력 예약판매 파는곳 G마켓! 출고 배송은 27일부터', 'link': 'https://blog.naver.com/copyslug?Redirect=Log&logNo=221746905327', 'desc': '사건의 발단은 네이버 실시간 검색에 뜬 #펭수달력 펭수달력예약판매 사기 위해 어디서 파는지 궁금하신 분들 많았을 텐데 여기저기 낚시글도 많이 보였어요. 그러다...'}]\n",
      "[{'title': '펭수 짤 배경화면 36종 모음, 펭하!', 'link': 'https://blog.naver.com/nanumi_?Redirect=Log&logNo=221715138412', 'desc': '펭수 짤 배경화면 36종 모음, 펭하! 조금 뜬금없지만 케찹고백할게요. 사실 얼마 전부터 펭수에게 입덕하고 말았어요. 분명 한 달 전만 하더라도 대체 저 펭귄의 매력이...'}, {'title': '펭수 달력 B형 저세상 귀여움 ♪', 'link': 'https://blog.naver.com/aimei96?Redirect=Log&logNo=221771127540', 'desc': '펭수 달력 사전예약이 엄청났습니다. 대기숫자가 계속 늘어나서 저는 포기했었는데... 예약신청을 한 절친은 펭수 달력 B형이 도착했는데요. 비타입은 실사로 꾸며져...'}, {'title': '펭수달력 지마켓 환불하고 결국 교보문고에서 샀음', 'link': 'https://blog.naver.com/psr909?Redirect=Log&logNo=221770607343', 'desc': '넘나 귀여운 펭수달력 리뷰에 앞서 지마켓 예약판매 대행사인 클락워크의 개똥같은 일처리로 빡쳤던 그간의 일들을 주욱 적어보고자 한다 (우리 펭수는 잘못없음...'}, {'title': '[영어회화] 펭수가 뭐길래!- #펭수어록 영어로', 'link': 'https://blog.naver.com/ktri8888?Redirect=Log&logNo=221742178747', 'desc': '#사회이슈 _ #펭수 가 뭐길래! #펭수어록 #펭수명언 #펭수말 #펭수짤 #펭수사진 안녕하세요. 11월, 12월이 하는 것 없이 바쁜 달 중에 하나같아요. 오랜 친구들의...'}, {'title': '기저귀 펭수닮은 슈퍼대디 미스터펭 추천', 'link': 'https://blog.naver.com/cokcok564?Redirect=Log&logNo=221777990206', 'desc': '펭수가 진짜 핫하던데 남편이랑 저는 처음에 아는형님에서 나오는거 보고 저 펭귄은 뭐야 , (육아 하느라 아무것도 모름) 했는데 남편은 어느순간 푹 빠져서 펭수팬...'}, {'title': '펭수 짤 보면서 힐링해보아요 :D', 'link': 'https://blog.naver.com/zldnld99?Redirect=Log&logNo=221736833354', 'desc': '우리 펭수 짤 두번째 글로 와봤어요 ♥ 다들 아시겠지만 아이돌이든 뭐든 입덕기가 있잖아요? 우리 펭수도 마찬가진데 다들 이런식으로 입덕하셨을거에요. 참고로 저는...'}, {'title': '펭수달력 예약판매 파는곳 G마켓! 출고 배송은 27일부터', 'link': 'https://blog.naver.com/copyslug?Redirect=Log&logNo=221746905327', 'desc': '사건의 발단은 네이버 실시간 검색에 뜬 #펭수달력 펭수달력예약판매 사기 위해 어디서 파는지 궁금하신 분들 많았을 텐데 여기저기 낚시글도 많이 보였어요. 그러다...'}, {'title': '펭수 달력 예약 가격 및 A형 B형 살펴보기', 'link': 'https://face8901.blog.me/221761965421', 'desc': '펭수 달력 예약 가격 및 A형 B형 살펴보기 지난해 우리나라에서 큰 화제를 모았던 펭수, 온라인 쇼핑몰에서 2020년 다이어리를 예약 판매한다고 했을 때만 하더라도...'}]\n",
      "[{'title': '펭수 짤 배경화면 36종 모음, 펭하!', 'link': 'https://blog.naver.com/nanumi_?Redirect=Log&logNo=221715138412', 'desc': '펭수 짤 배경화면 36종 모음, 펭하! 조금 뜬금없지만 케찹고백할게요. 사실 얼마 전부터 펭수에게 입덕하고 말았어요. 분명 한 달 전만 하더라도 대체 저 펭귄의 매력이...'}, {'title': '펭수 달력 B형 저세상 귀여움 ♪', 'link': 'https://blog.naver.com/aimei96?Redirect=Log&logNo=221771127540', 'desc': '펭수 달력 사전예약이 엄청났습니다. 대기숫자가 계속 늘어나서 저는 포기했었는데... 예약신청을 한 절친은 펭수 달력 B형이 도착했는데요. 비타입은 실사로 꾸며져...'}, {'title': '펭수달력 지마켓 환불하고 결국 교보문고에서 샀음', 'link': 'https://blog.naver.com/psr909?Redirect=Log&logNo=221770607343', 'desc': '넘나 귀여운 펭수달력 리뷰에 앞서 지마켓 예약판매 대행사인 클락워크의 개똥같은 일처리로 빡쳤던 그간의 일들을 주욱 적어보고자 한다 (우리 펭수는 잘못없음...'}, {'title': '[영어회화] 펭수가 뭐길래!- #펭수어록 영어로', 'link': 'https://blog.naver.com/ktri8888?Redirect=Log&logNo=221742178747', 'desc': '#사회이슈 _ #펭수 가 뭐길래! #펭수어록 #펭수명언 #펭수말 #펭수짤 #펭수사진 안녕하세요. 11월, 12월이 하는 것 없이 바쁜 달 중에 하나같아요. 오랜 친구들의...'}, {'title': '기저귀 펭수닮은 슈퍼대디 미스터펭 추천', 'link': 'https://blog.naver.com/cokcok564?Redirect=Log&logNo=221777990206', 'desc': '펭수가 진짜 핫하던데 남편이랑 저는 처음에 아는형님에서 나오는거 보고 저 펭귄은 뭐야 , (육아 하느라 아무것도 모름) 했는데 남편은 어느순간 푹 빠져서 펭수팬...'}, {'title': '펭수 짤 보면서 힐링해보아요 :D', 'link': 'https://blog.naver.com/zldnld99?Redirect=Log&logNo=221736833354', 'desc': '우리 펭수 짤 두번째 글로 와봤어요 ♥ 다들 아시겠지만 아이돌이든 뭐든 입덕기가 있잖아요? 우리 펭수도 마찬가진데 다들 이런식으로 입덕하셨을거에요. 참고로 저는...'}, {'title': '펭수달력 예약판매 파는곳 G마켓! 출고 배송은 27일부터', 'link': 'https://blog.naver.com/copyslug?Redirect=Log&logNo=221746905327', 'desc': '사건의 발단은 네이버 실시간 검색에 뜬 #펭수달력 펭수달력예약판매 사기 위해 어디서 파는지 궁금하신 분들 많았을 텐데 여기저기 낚시글도 많이 보였어요. 그러다...'}, {'title': '펭수 달력 예약 가격 및 A형 B형 살펴보기', 'link': 'https://face8901.blog.me/221761965421', 'desc': '펭수 달력 예약 가격 및 A형 B형 살펴보기 지난해 우리나라에서 큰 화제를 모았던 펭수, 온라인 쇼핑몰에서 2020년 다이어리를 예약 판매한다고 했을 때만 하더라도...'}, {'title': '펭수 달력 결국 오프라인(교보문고) 구매!', 'link': 'https://blog.naver.com/rnthdus8733?Redirect=Log&logNo=221754639120', 'desc': '#펭수달력 #펭수 #펭수달력교보문고 23일에 40분 대기타서 G마켓에서 예약 구매했는데 오배송 옴 분명 B 실물 포스터 버전 샀는데 왜 다 A일러스트 버전? 얼마나...'}]\n",
      "[{'title': '펭수 짤 배경화면 36종 모음, 펭하!', 'link': 'https://blog.naver.com/nanumi_?Redirect=Log&logNo=221715138412', 'desc': '펭수 짤 배경화면 36종 모음, 펭하! 조금 뜬금없지만 케찹고백할게요. 사실 얼마 전부터 펭수에게 입덕하고 말았어요. 분명 한 달 전만 하더라도 대체 저 펭귄의 매력이...'}, {'title': '펭수 달력 B형 저세상 귀여움 ♪', 'link': 'https://blog.naver.com/aimei96?Redirect=Log&logNo=221771127540', 'desc': '펭수 달력 사전예약이 엄청났습니다. 대기숫자가 계속 늘어나서 저는 포기했었는데... 예약신청을 한 절친은 펭수 달력 B형이 도착했는데요. 비타입은 실사로 꾸며져...'}, {'title': '펭수달력 지마켓 환불하고 결국 교보문고에서 샀음', 'link': 'https://blog.naver.com/psr909?Redirect=Log&logNo=221770607343', 'desc': '넘나 귀여운 펭수달력 리뷰에 앞서 지마켓 예약판매 대행사인 클락워크의 개똥같은 일처리로 빡쳤던 그간의 일들을 주욱 적어보고자 한다 (우리 펭수는 잘못없음...'}, {'title': '[영어회화] 펭수가 뭐길래!- #펭수어록 영어로', 'link': 'https://blog.naver.com/ktri8888?Redirect=Log&logNo=221742178747', 'desc': '#사회이슈 _ #펭수 가 뭐길래! #펭수어록 #펭수명언 #펭수말 #펭수짤 #펭수사진 안녕하세요. 11월, 12월이 하는 것 없이 바쁜 달 중에 하나같아요. 오랜 친구들의...'}, {'title': '기저귀 펭수닮은 슈퍼대디 미스터펭 추천', 'link': 'https://blog.naver.com/cokcok564?Redirect=Log&logNo=221777990206', 'desc': '펭수가 진짜 핫하던데 남편이랑 저는 처음에 아는형님에서 나오는거 보고 저 펭귄은 뭐야 , (육아 하느라 아무것도 모름) 했는데 남편은 어느순간 푹 빠져서 펭수팬...'}, {'title': '펭수 짤 보면서 힐링해보아요 :D', 'link': 'https://blog.naver.com/zldnld99?Redirect=Log&logNo=221736833354', 'desc': '우리 펭수 짤 두번째 글로 와봤어요 ♥ 다들 아시겠지만 아이돌이든 뭐든 입덕기가 있잖아요? 우리 펭수도 마찬가진데 다들 이런식으로 입덕하셨을거에요. 참고로 저는...'}, {'title': '펭수달력 예약판매 파는곳 G마켓! 출고 배송은 27일부터', 'link': 'https://blog.naver.com/copyslug?Redirect=Log&logNo=221746905327', 'desc': '사건의 발단은 네이버 실시간 검색에 뜬 #펭수달력 펭수달력예약판매 사기 위해 어디서 파는지 궁금하신 분들 많았을 텐데 여기저기 낚시글도 많이 보였어요. 그러다...'}, {'title': '펭수 달력 예약 가격 및 A형 B형 살펴보기', 'link': 'https://face8901.blog.me/221761965421', 'desc': '펭수 달력 예약 가격 및 A형 B형 살펴보기 지난해 우리나라에서 큰 화제를 모았던 펭수, 온라인 쇼핑몰에서 2020년 다이어리를 예약 판매한다고 했을 때만 하더라도...'}, {'title': '펭수 달력 결국 오프라인(교보문고) 구매!', 'link': 'https://blog.naver.com/rnthdus8733?Redirect=Log&logNo=221754639120', 'desc': '#펭수달력 #펭수 #펭수달력교보문고 23일에 40분 대기타서 G마켓에서 예약 구매했는데 오배송 옴 분명 B 실물 포스터 버전 샀는데 왜 다 A일러스트 버전? 얼마나...'}, {'title': '[펭수 헌정 요리] 10세 키즈 쿠킹 참치 피쉬 케이크', 'link': 'https://blog.naver.com/minmogun?Redirect=Log&logNo=221757510917', 'desc': '펭수가 인기입니다~~ 제일 좋아하는 음식이 참치고요~~ 최근 동원참치와도 광고를 체결했다고 하는데요 그렇다면 저도 뭔가 하나~~ #피쉬케이크 #참치피쉬케이크 #펭수참...'}]\n"
     ]
    }
   ],
   "source": [
    "num=int(input(\"페이지를 입력해 주세요: \"))\n",
    "name=input(\"검색어를 입력해 주세요:\")\n",
    "url='https://search.naver.com/search.naver'\n",
    "result_list=[]\n",
    "for i in range(num):\n",
    "    params={\n",
    "        'where':'post',\n",
    "        'query':name,\n",
    "        'start': 1+i*10\n",
    "    }\n",
    "    resp = requests.get(url, params=params)\n",
    "    \n",
    "    soup = BeautifulSoup(resp.content)\n",
    "    ul_tag=soup.find('ul',class_='type01')\n",
    "    \n",
    "    blog_list = ul_tag.find_all('li', class_='sh_blog_top')\n",
    "    for post in blog_list:\n",
    "        dl_tag=post.find('dl')\n",
    "        title=dl_tag.find('a',class_='_sp_each_title').text\n",
    "        link=dl_tag.find('a',class_='_sp_each_title').get('href')\n",
    "        desc=dl_tag.find_all('dd')[1].text\n",
    "        \n",
    "        result_list.append({\n",
    "            'title':title,\n",
    "            'link':link,\n",
    "            'desc':desc\n",
    "        })\n",
    "        print(result_list)\n",
    "        "
   ]
  },
  {
   "cell_type": "code",
   "execution_count": null,
   "metadata": {},
   "outputs": [],
   "source": []
  },
  {
   "cell_type": "code",
   "execution_count": null,
   "metadata": {},
   "outputs": [],
   "source": []
  },
  {
   "cell_type": "code",
   "execution_count": null,
   "metadata": {},
   "outputs": [],
   "source": []
  },
  {
   "cell_type": "code",
   "execution_count": null,
   "metadata": {},
   "outputs": [],
   "source": []
  },
  {
   "cell_type": "code",
   "execution_count": null,
   "metadata": {},
   "outputs": [],
   "source": []
  },
  {
   "cell_type": "code",
   "execution_count": null,
   "metadata": {},
   "outputs": [],
   "source": []
  },
  {
   "cell_type": "code",
   "execution_count": null,
   "metadata": {},
   "outputs": [],
   "source": []
  }
 ],
 "metadata": {
  "kernelspec": {
   "display_name": "Python 3",
   "language": "python",
   "name": "python3"
  },
  "language_info": {
   "codemirror_mode": {
    "name": "ipython",
    "version": 3
   },
   "file_extension": ".py",
   "mimetype": "text/x-python",
   "name": "python",
   "nbconvert_exporter": "python",
   "pygments_lexer": "ipython3",
   "version": "3.7.4"
  }
 },
 "nbformat": 4,
 "nbformat_minor": 2
}
