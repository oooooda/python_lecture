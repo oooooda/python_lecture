{
 "cells": [
  {
   "cell_type": "markdown",
   "metadata": {},
   "source": [
    "\n",
    "# 블로그 데이터 가져오기"
   ]
  },
  {
   "cell_type": "code",
   "execution_count": 1,
   "metadata": {},
   "outputs": [],
   "source": [
    "import requests"
   ]
  },
  {
   "cell_type": "code",
   "execution_count": 2,
   "metadata": {},
   "outputs": [],
   "source": [
    "from bs4 import BeautifulSoup"
   ]
  },
  {
   "cell_type": "markdown",
   "metadata": {},
   "source": [
    "\n",
    "## 1.url 분석하기"
   ]
  },
  {
   "cell_type": "code",
   "execution_count": 4,
   "metadata": {},
   "outputs": [],
   "source": [
    "url='https://search.naver.com/search.naver'\n",
    "params={\n",
    "    'where':'post',\n",
    "    'query':'펭수'\n",
    "}"
   ]
  },
  {
   "cell_type": "markdown",
   "metadata": {},
   "source": [
    "\n",
    "## 2.request보내기 "
   ]
  },
  {
   "cell_type": "code",
   "execution_count": 6,
   "metadata": {},
   "outputs": [
    {
     "data": {
      "text/plain": [
       "<Response [200]>"
      ]
     },
     "execution_count": 6,
     "metadata": {},
     "output_type": "execute_result"
    }
   ],
   "source": [
    "resp=requests.get(url,params=params)\n",
    "resp"
   ]
  },
  {
   "cell_type": "markdown",
   "metadata": {},
   "source": [
    "## 3.resp분석하기(soup객체 만들기)"
   ]
  },
  {
   "cell_type": "code",
   "execution_count": 7,
   "metadata": {},
   "outputs": [],
   "source": [
    "soup = BeautifulSoup(resp.content)"
   ]
  },
  {
   "cell_type": "code",
   "execution_count": 8,
   "metadata": {},
   "outputs": [],
   "source": [
    "ul_tag=soup.find('ul',class_='type01')"
   ]
  },
  {
   "cell_type": "markdown",
   "metadata": {},
   "source": [
    "### a 데이터"
   ]
  },
  {
   "cell_type": "code",
   "execution_count": 9,
   "metadata": {},
   "outputs": [
    {
     "data": {
      "text/plain": [
       "10"
      ]
     },
     "execution_count": 9,
     "metadata": {},
     "output_type": "execute_result"
    }
   ],
   "source": [
    "blog_tags=ul_tag.find_all('a', class_='sh_blog_title _sp_each_url _sp_each_title')\n",
    "len(blog_tags)"
   ]
  },
  {
   "cell_type": "code",
   "execution_count": 11,
   "metadata": {},
   "outputs": [
    {
     "data": {
      "text/plain": [
       "<a class=\"sh_blog_title _sp_each_url _sp_each_title\" href=\"https://blog.naver.com/aimei96?Redirect=Log&amp;logNo=221771127540\" onclick=\"return goOtherCR(this, 'a=blg*i.tit&amp;r=2&amp;i=90000003_0000000000000033A296DAF4&amp;u='+urlencode(this.href))\" target=\"_blank\" title=\"펭수 달력 B형 저세상 귀여움 ♪\"><strong class=\"hl\">펭수</strong> 달력 B형 저세상 귀여움 ♪</a>"
      ]
     },
     "execution_count": 11,
     "metadata": {},
     "output_type": "execute_result"
    }
   ],
   "source": [
    "blog_tags[1]"
   ]
  },
  {
   "cell_type": "code",
   "execution_count": 20,
   "metadata": {},
   "outputs": [
    {
     "data": {
      "text/plain": [
       "[{'title': '펭수 짤 배경화면 36종 모음, 펭하!',\n",
       "  'link': 'https://blog.naver.com/nanumi_?Redirect=Log&logNo=221715138412'},\n",
       " {'title': '펭수 달력 B형 저세상 귀여움 ♪',\n",
       "  'link': 'https://blog.naver.com/aimei96?Redirect=Log&logNo=221771127540'},\n",
       " {'title': '펭수달력 지마켓 환불하고 결국 교보문고에서 샀음',\n",
       "  'link': 'https://blog.naver.com/psr909?Redirect=Log&logNo=221770607343'},\n",
       " {'title': '[영어회화] 펭수가 뭐길래!- #펭수어록 영어로',\n",
       "  'link': 'https://blog.naver.com/ktri8888?Redirect=Log&logNo=221742178747'},\n",
       " {'title': '기저귀 펭수닮은 슈퍼대디 미스터펭 추천',\n",
       "  'link': 'https://blog.naver.com/cokcok564?Redirect=Log&logNo=221777990206'},\n",
       " {'title': '펭수 짤 보면서 힐링해보아요 :D',\n",
       "  'link': 'https://blog.naver.com/zldnld99?Redirect=Log&logNo=221736833354'},\n",
       " {'title': '펭수달력 예약판매 파는곳 G마켓! 출고 배송은 27일부터',\n",
       "  'link': 'https://blog.naver.com/copyslug?Redirect=Log&logNo=221746905327'},\n",
       " {'title': '펭수 달력 예약 가격 및 A형 B형 살펴보기',\n",
       "  'link': 'https://face8901.blog.me/221761965421'},\n",
       " {'title': '펭수 달력 결국 오프라인(교보문고) 구매!',\n",
       "  'link': 'https://blog.naver.com/rnthdus8733?Redirect=Log&logNo=221754639120'},\n",
       " {'title': '[펭수 헌정 요리] 10세 키즈 쿠킹 참치 피쉬 케이크',\n",
       "  'link': 'https://blog.naver.com/minmogun?Redirect=Log&logNo=221757510917'}]"
      ]
     },
     "execution_count": 20,
     "metadata": {},
     "output_type": "execute_result"
    }
   ],
   "source": [
    "blog_list=[]\n",
    "for blog in blog_tags:\n",
    "    title=blog.text\n",
    "    link=blog.get('href')\n",
    "    \n",
    "    blog_list.append(\n",
    "    {\n",
    "        'title':title,\n",
    "        'link':link\n",
    "    })\n",
    "blog_list"
   ]
  },
  {
   "cell_type": "markdown",
   "metadata": {},
   "source": [
    "### 전체데이터"
   ]
  },
  {
   "cell_type": "code",
   "execution_count": 21,
   "metadata": {},
   "outputs": [
    {
     "data": {
      "text/plain": [
       "10"
      ]
     },
     "execution_count": 21,
     "metadata": {},
     "output_type": "execute_result"
    }
   ],
   "source": [
    "li_tags=ul_tag.find_all('li',class_='sh_blog_top')\n",
    "len(li_tags)"
   ]
  },
  {
   "cell_type": "code",
   "execution_count": 23,
   "metadata": {
    "scrolled": true
   },
   "outputs": [
    {
     "data": {
      "text/plain": [
       "[{'title': '펭수 짤 배경화면 36종 모음, 펭하!',\n",
       "  'link': 'https://blog.naver.com/nanumi_?Redirect=Log&logNo=221715138412',\n",
       "  'desc': '펭수 짤 배경화면 36종 모음, 펭하! 조금 뜬금없지만 케찹고백할게요. 사실 얼마 전부터 펭수에게 입덕하고 말았어요. 분명 한 달 전만 하더라도 대체 저 펭귄의 매력이...'},\n",
       " {'title': '펭수 달력 B형 저세상 귀여움 ♪',\n",
       "  'link': 'https://blog.naver.com/aimei96?Redirect=Log&logNo=221771127540',\n",
       "  'desc': '펭수 달력 사전예약이 엄청났습니다. 대기숫자가 계속 늘어나서 저는 포기했었는데... 예약신청을 한 절친은 펭수 달력 B형이 도착했는데요. 비타입은 실사로 꾸며져...'},\n",
       " {'title': '펭수달력 지마켓 환불하고 결국 교보문고에서 샀음',\n",
       "  'link': 'https://blog.naver.com/psr909?Redirect=Log&logNo=221770607343',\n",
       "  'desc': '넘나 귀여운 펭수달력 리뷰에 앞서 지마켓 예약판매 대행사인 클락워크의 개똥같은 일처리로 빡쳤던 그간의 일들을 주욱 적어보고자 한다 (우리 펭수는 잘못없음...'},\n",
       " {'title': '[영어회화] 펭수가 뭐길래!- #펭수어록 영어로',\n",
       "  'link': 'https://blog.naver.com/ktri8888?Redirect=Log&logNo=221742178747',\n",
       "  'desc': '#사회이슈 _ #펭수 가 뭐길래! #펭수어록 #펭수명언 #펭수말 #펭수짤 #펭수사진 안녕하세요. 11월, 12월이 하는 것 없이 바쁜 달 중에 하나같아요. 오랜 친구들의...'},\n",
       " {'title': '기저귀 펭수닮은 슈퍼대디 미스터펭 추천',\n",
       "  'link': 'https://blog.naver.com/cokcok564?Redirect=Log&logNo=221777990206',\n",
       "  'desc': '펭수가 진짜 핫하던데 남편이랑 저는 처음에 아는형님에서 나오는거 보고 저 펭귄은 뭐야 , (육아 하느라 아무것도 모름) 했는데 남편은 어느순간 푹 빠져서 펭수팬...'},\n",
       " {'title': '펭수 짤 보면서 힐링해보아요 :D',\n",
       "  'link': 'https://blog.naver.com/zldnld99?Redirect=Log&logNo=221736833354',\n",
       "  'desc': '우리 펭수 짤 두번째 글로 와봤어요 ♥ 다들 아시겠지만 아이돌이든 뭐든 입덕기가 있잖아요? 우리 펭수도 마찬가진데 다들 이런식으로 입덕하셨을거에요. 참고로 저는...'},\n",
       " {'title': '펭수달력 예약판매 파는곳 G마켓! 출고 배송은 27일부터',\n",
       "  'link': 'https://blog.naver.com/copyslug?Redirect=Log&logNo=221746905327',\n",
       "  'desc': '사건의 발단은 네이버 실시간 검색에 뜬 #펭수달력 펭수달력예약판매 사기 위해 어디서 파는지 궁금하신 분들 많았을 텐데 여기저기 낚시글도 많이 보였어요. 그러다...'},\n",
       " {'title': '펭수 달력 예약 가격 및 A형 B형 살펴보기',\n",
       "  'link': 'https://face8901.blog.me/221761965421',\n",
       "  'desc': '펭수 달력 예약 가격 및 A형 B형 살펴보기 지난해 우리나라에서 큰 화제를 모았던 펭수, 온라인 쇼핑몰에서 2020년 다이어리를 예약 판매한다고 했을 때만 하더라도...'},\n",
       " {'title': '펭수 달력 결국 오프라인(교보문고) 구매!',\n",
       "  'link': 'https://blog.naver.com/rnthdus8733?Redirect=Log&logNo=221754639120',\n",
       "  'desc': '#펭수달력 #펭수 #펭수달력교보문고 23일에 40분 대기타서 G마켓에서 예약 구매했는데 오배송 옴 분명 B 실물 포스터 버전 샀는데 왜 다 A일러스트 버전? 얼마나...'},\n",
       " {'title': '[펭수 헌정 요리] 10세 키즈 쿠킹 참치 피쉬 케이크',\n",
       "  'link': 'https://blog.naver.com/minmogun?Redirect=Log&logNo=221757510917',\n",
       "  'desc': '펭수가 인기입니다~~ 제일 좋아하는 음식이 참치고요~~ 최근 동원참치와도 광고를 체결했다고 하는데요 그렇다면 저도 뭔가 하나~~ #피쉬케이크 #참치피쉬케이크 #펭수참...'}]"
      ]
     },
     "execution_count": 23,
     "metadata": {},
     "output_type": "execute_result"
    }
   ],
   "source": [
    "ablog_list=[]\n",
    "for li_tag in li_tags:\n",
    "    a_tag=li_tag.find('a', class_='sh_blog_title _sp_each_url _sp_each_title')\n",
    "    title=a_tag.text\n",
    "    link=a_tag.get('href')\n",
    "    \n",
    "    dd_tag=li_tag.find_all('dd')[1]\n",
    "    desc=dd_tag.text\n",
    "    \n",
    "    ablog_list.append(\n",
    "    {\n",
    "        'title':title,\n",
    "        'link':link,\n",
    "        'desc':desc\n",
    "    })\n",
    "ablog_list"
   ]
  },
  {
   "cell_type": "markdown",
   "metadata": {},
   "source": [
    "# 네이버 연관검색어 가져오기"
   ]
  },
  {
   "cell_type": "code",
   "execution_count": 30,
   "metadata": {},
   "outputs": [],
   "source": [
    "keyul_tags=soup.find('ul', class_='_related_keyword_ul')"
   ]
  },
  {
   "cell_type": "code",
   "execution_count": 43,
   "metadata": {},
   "outputs": [
    {
     "data": {
      "text/plain": [
       "10"
      ]
     },
     "execution_count": 43,
     "metadata": {},
     "output_type": "execute_result"
    }
   ],
   "source": [
    "key_tags=keyul_tags.find_all('a')\n",
    "len(key_tags)"
   ]
  },
  {
   "cell_type": "code",
   "execution_count": 44,
   "metadata": {},
   "outputs": [
    {
     "data": {
      "text/plain": [
       "<a data-area=\"*q\" data-idx=\"1\" href=\"?where=post&amp;query=%ED%8E%AD%EC%88%98+%EA%B9%80%EB%8F%99%EC%A4%80&amp;ie=utf8&amp;sm=tab_she&amp;qdt=0\">펭수 김동준</a>"
      ]
     },
     "execution_count": 44,
     "metadata": {},
     "output_type": "execute_result"
    }
   ],
   "source": [
    "key_tags[0]"
   ]
  },
  {
   "cell_type": "code",
   "execution_count": 45,
   "metadata": {},
   "outputs": [
    {
     "data": {
      "text/plain": [
       "[{'title': '펭수 김동준',\n",
       "  'link': '?where=post&query=%ED%8E%AD%EC%88%98+%EA%B9%80%EB%8F%99%EC%A4%80&ie=utf8&sm=tab_she&qdt=0'},\n",
       " {'title': '펭수 정체',\n",
       "  'link': '?where=post&query=%ED%8E%AD%EC%88%98+%EC%A0%95%EC%B2%B4&ie=utf8&sm=tab_she&qdt=0'},\n",
       " {'title': '펭수 굿즈',\n",
       "  'link': '?where=post&query=%ED%8E%AD%EC%88%98+%EA%B5%BF%EC%A6%88&ie=utf8&sm=tab_she&qdt=0'},\n",
       " {'title': '김동준',\n",
       "  'link': '?where=post&query=%EA%B9%80%EB%8F%99%EC%A4%80&ie=utf8&sm=tab_she&qdt=0'},\n",
       " {'title': '펭수 인형',\n",
       "  'link': '?where=post&query=%ED%8E%AD%EC%88%98+%EC%9D%B8%ED%98%95&ie=utf8&sm=tab_she&qdt=0'},\n",
       " {'title': '펭수 얼굴',\n",
       "  'link': '?where=post&query=%ED%8E%AD%EC%88%98+%EC%96%BC%EA%B5%B4&ie=utf8&sm=tab_she&qdt=0'},\n",
       " {'title': '펭수 달력',\n",
       "  'link': '?where=post&query=%ED%8E%AD%EC%88%98+%EB%8B%AC%EB%A0%A5&ie=utf8&sm=tab_she&qdt=0'},\n",
       " {'title': '펭수 배경화면',\n",
       "  'link': '?where=post&query=%ED%8E%AD%EC%88%98+%EB%B0%B0%EA%B2%BD%ED%99%94%EB%A9%B4&ie=utf8&sm=tab_she&qdt=0'},\n",
       " {'title': '자이언트 펭tv',\n",
       "  'link': '?where=post&query=%EC%9E%90%EC%9D%B4%EC%96%B8%ED%8A%B8+%ED%8E%ADtv&ie=utf8&sm=tab_she&qdt=0'},\n",
       " {'title': '플린 김동준',\n",
       "  'link': '?where=post&query=%ED%94%8C%EB%A6%B0+%EA%B9%80%EB%8F%99%EC%A4%80&ie=utf8&sm=tab_she&qdt=0'}]"
      ]
     },
     "execution_count": 45,
     "metadata": {},
     "output_type": "execute_result"
    }
   ],
   "source": [
    "key_list=[]\n",
    "for key in key_tags:\n",
    "    title=key.text\n",
    "    link=key.get('href')\n",
    "    key_list.append(\n",
    "    {\n",
    "        'title':title,\n",
    "        'link':link\n",
    "    })\n",
    "key_list"
   ]
  },
  {
   "cell_type": "markdown",
   "metadata": {},
   "source": [
    "# 네이버 핫 뉴스토픽 가져오기"
   ]
  },
  {
   "cell_type": "code",
   "execution_count": 56,
   "metadata": {},
   "outputs": [],
   "source": [
    "newsul_tags=soup.find('ol',class_='lst_realtime_srch _tab_area')"
   ]
  },
  {
   "cell_type": "code",
   "execution_count": 59,
   "metadata": {},
   "outputs": [
    {
     "data": {
      "text/plain": [
       "10"
      ]
     },
     "execution_count": 59,
     "metadata": {},
     "output_type": "execute_result"
    }
   ],
   "source": [
    "#숫짜 빼고 가져오기\n",
    "news_tags=newsul_tags.find_all('span', class_='tit')\n",
    "len(news_tags)"
   ]
  },
  {
   "cell_type": "code",
   "execution_count": 62,
   "metadata": {},
   "outputs": [
    {
     "name": "stdout",
     "output_type": "stream",
     "text": [
      "['SKB-티브로드 합병', '호르무즈 독자 파병', '킹크랩 시연 봤다', '1명 의식불명', '성산대교서 SUV 추락', '유역수도지원센터 출범', '엄마부대 주옥순', '신종 코로나바이러스', '청해부대 파견 지역 확대', '총선 출마 선언']\n"
     ]
    }
   ],
   "source": [
    "news_list=[]\n",
    "for news in news_tags:\n",
    "    news_list.append(news.text)\n",
    "print(news_list)"
   ]
  },
  {
   "cell_type": "code",
   "execution_count": null,
   "metadata": {},
   "outputs": [],
   "source": []
  },
  {
   "cell_type": "code",
   "execution_count": null,
   "metadata": {},
   "outputs": [],
   "source": []
  },
  {
   "cell_type": "code",
   "execution_count": null,
   "metadata": {},
   "outputs": [],
   "source": []
  },
  {
   "cell_type": "code",
   "execution_count": null,
   "metadata": {},
   "outputs": [],
   "source": []
  },
  {
   "cell_type": "code",
   "execution_count": null,
   "metadata": {},
   "outputs": [],
   "source": []
  },
  {
   "cell_type": "code",
   "execution_count": null,
   "metadata": {},
   "outputs": [],
   "source": []
  },
  {
   "cell_type": "code",
   "execution_count": null,
   "metadata": {},
   "outputs": [],
   "source": []
  },
  {
   "cell_type": "code",
   "execution_count": null,
   "metadata": {},
   "outputs": [],
   "source": []
  }
 ],
 "metadata": {
  "kernelspec": {
   "display_name": "Python 3",
   "language": "python",
   "name": "python3"
  },
  "language_info": {
   "codemirror_mode": {
    "name": "ipython",
    "version": 3
   },
   "file_extension": ".py",
   "mimetype": "text/x-python",
   "name": "python",
   "nbconvert_exporter": "python",
   "pygments_lexer": "ipython3",
   "version": "3.7.4"
  }
 },
 "nbformat": 4,
 "nbformat_minor": 2
}
