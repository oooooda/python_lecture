{
 "cells": [
  {
   "cell_type": "code",
   "execution_count": 50,
   "metadata": {},
   "outputs": [],
   "source": [
    "import requests\n",
    "from bs4 import BeautifulSoup\n",
    "url='https://search.naver.com/search.naver'\n",
    "params={\n",
    "    'where':'news',\n",
    "    'query':'명절증후군'\n",
    "    \n",
    "}"
   ]
  },
  {
   "cell_type": "code",
   "execution_count": 51,
   "metadata": {},
   "outputs": [
    {
     "data": {
      "text/plain": [
       "<Response [200]>"
      ]
     },
     "execution_count": 51,
     "metadata": {},
     "output_type": "execute_result"
    }
   ],
   "source": [
    "resp=requests.get(url,params=params)\n",
    "resp"
   ]
  },
  {
   "cell_type": "code",
   "execution_count": 52,
   "metadata": {},
   "outputs": [],
   "source": [
    "soup=BeautifulSoup(resp.content)"
   ]
  },
  {
   "cell_type": "code",
   "execution_count": 53,
   "metadata": {},
   "outputs": [],
   "source": [
    "ul_tag=soup.find('ul',class_='type01')"
   ]
  },
  {
   "cell_type": "code",
   "execution_count": 54,
   "metadata": {},
   "outputs": [],
   "source": [
    "news_items=ul_tag.find_all('li',recursive=False)"
   ]
  },
  {
   "cell_type": "code",
   "execution_count": 56,
   "metadata": {},
   "outputs": [
    {
     "data": {
      "text/plain": [
       "[{'title': '명절증후군 ‘호캉스’로 푼다',\n",
       "  'img': 'https://search.pstatic.net/common/?src=https%3A%2F%2Fimgnews.pstatic.net%2Fimage%2Forigin%2F092%2F2020%2F01%2F28%2F2179446.jpg&type=ofullfill80_80_q75_re2',\n",
       "  'link': 'http://www.zdnet.co.kr/view/?no=20200128085846'},\n",
       " {'title': '\"명절증후군, 안마의자로 시원하게 이겨내세요\"',\n",
       "  'img': 'https://search.pstatic.net/common/?src=https%3A%2F%2Fimgnews.pstatic.net%2Fimage%2Forigin%2F014%2F2020%2F01%2F27%2F4363431.jpg&type=ofullfill80_80_q75_re2',\n",
       "  'link': 'http://www.fnnews.com/news/202001271711324279'},\n",
       " {'title': \"'설 연휴 끝!' 명절증후군 이렇게 이겨보세요\",\n",
       "  'img': 'https://search.pstatic.net/common/?src=https%3A%2F%2Fimgnews.pstatic.net%2Fimage%2Forigin%2F003%2F2020%2F01%2F27%2F9670462.jpg&type=ofullfill80_80_q75_re2',\n",
       "  'link': 'http://www.newsis.com/view/?id=NISX20200123_0000897860&cID=10899&pID=10800'},\n",
       " {'title': '명절 증후군, 다양한 안마 가전 이용하세요~',\n",
       "  'img': 'https://search.pstatic.net/common/?src=https%3A%2F%2Fimgnews.pstatic.net%2Fimage%2Forigin%2F030%2F2020%2F01%2F27%2F2864091.jpg&type=ofullfill80_80_q75_re2',\n",
       "  'link': 'http://www.etnews.com/20200127000111'},\n",
       " {'title': \"속은 '답답' 한숨만 푹!…명절 증후군 극복법\",\n",
       "  'img': 'https://search.pstatic.net/common/?src=https%3A%2F%2Fimgnews.pstatic.net%2Fimage%2Forigin%2F008%2F2020%2F01%2F27%2F4345976.jpg&type=ofullfill80_80_q75_re2',\n",
       "  'link': 'http://news.mt.co.kr/mtview.php?no=2020012217094741502'},\n",
       " {'title': \"명절 증후군 날려버릴 '핵잼' 서비스 다 모였다\",\n",
       "  'img': 'https://search.pstatic.net/common/?src=https%3A%2F%2Fimgnews.pstatic.net%2Fimage%2Forigin%2F277%2F2020%2F01%2F27%2F4612183.jpg&type=ofullfill80_80_q75_re2',\n",
       "  'link': 'https://view.asiae.co.kr/article/2020012615283378739'},\n",
       " {'title': '\\'짧은 연휴 끝\\' 명절증후군은 이제 시작..\"이렇게 극복하세요\"',\n",
       "  'img': 'https://search.pstatic.net/common/?src=https%3A%2F%2Fimgnews.pstatic.net%2Fimage%2Forigin%2F014%2F2020%2F01%2F27%2F4363235.jpg&type=ofullfill80_80_q75_re2',\n",
       "  'link': 'http://www.fnnews.com/news/202001262009244722'},\n",
       " {'title': \"[티브로드][전주][뉴스콕콕]말 못할 병 '명절 증후군'\",\n",
       "  'img': 'https://search.pstatic.net/common/?src=https%3A%2F%2Fimgnews.pstatic.net%2Fimage%2Forigin%2F5556%2F2020%2F01%2F28%2F42714.jpg&type=ofullfill80_80_q75_re2',\n",
       "  'link': 'http://ch1.tbroad.com/content/view?parent_no=24&content_no=64&p_no=96314'},\n",
       " {'title': '[출근길 인터뷰] 몸과 마음 아프게 하는 명절증후군 해소법?',\n",
       "  'img': 'https://search.pstatic.net/common/?src=https%3A%2F%2Fimgnews.pstatic.net%2Fimage%2Forigin%2F422%2F2020%2F01%2F28%2F411924.jpg&type=ofullfill80_80_q75_re2',\n",
       "  'link': 'http://www.yonhapnewstv.co.kr/MYH20200128004400038/?did=1825m'},\n",
       " {'title': '[오늘의 창]민족 최대의 증후군',\n",
       "  'img': 'https://search.pstatic.net/common/?src=https%3A%2F%2Fimgnews.pstatic.net%2Fimage%2Forigin%2F5122%2F2020%2F01%2F27%2F820598.jpg&type=ofullfill80_80_q75_re2',\n",
       "  'link': 'http://www.kyeongin.com/main/view.php?key=20200127010006106'}]"
      ]
     },
     "execution_count": 56,
     "metadata": {},
     "output_type": "execute_result"
    }
   ],
   "source": [
    "news_list=[]\n",
    "for news_item in news_items:\n",
    "    img_tag=news_item .find('img')\n",
    "    if img_tag :\n",
    "        img=img_tag.get('src')\n",
    "    else :\n",
    "        img=''\n",
    "    title_tag=news_item.find('a',class_='_sp_each_title')\n",
    "    title=title_tag.text\n",
    "    link=title_tag.get('href')\n",
    "    news_list.append({\n",
    "        'title':title,\n",
    "        'img':img,\n",
    "        'link':link\n",
    "    })\n",
    "news_list"
   ]
  },
  {
   "cell_type": "code",
   "execution_count": 58,
   "metadata": {},
   "outputs": [
    {
     "name": "stdout",
     "output_type": "stream",
     "text": [
      "0 {'title': '명절증후군 ‘호캉스’로 푼다', 'img': 'https://search.pstatic.net/common/?src=https%3A%2F%2Fimgnews.pstatic.net%2Fimage%2Forigin%2F092%2F2020%2F01%2F28%2F2179446.jpg&type=ofullfill80_80_q75_re2', 'link': 'http://www.zdnet.co.kr/view/?no=20200128085846'}\n",
      "1 {'title': '\"명절증후군, 안마의자로 시원하게 이겨내세요\"', 'img': 'https://search.pstatic.net/common/?src=https%3A%2F%2Fimgnews.pstatic.net%2Fimage%2Forigin%2F014%2F2020%2F01%2F27%2F4363431.jpg&type=ofullfill80_80_q75_re2', 'link': 'http://www.fnnews.com/news/202001271711324279'}\n",
      "2 {'title': \"'설 연휴 끝!' 명절증후군 이렇게 이겨보세요\", 'img': 'https://search.pstatic.net/common/?src=https%3A%2F%2Fimgnews.pstatic.net%2Fimage%2Forigin%2F003%2F2020%2F01%2F27%2F9670462.jpg&type=ofullfill80_80_q75_re2', 'link': 'http://www.newsis.com/view/?id=NISX20200123_0000897860&cID=10899&pID=10800'}\n",
      "3 {'title': '명절 증후군, 다양한 안마 가전 이용하세요~', 'img': 'https://search.pstatic.net/common/?src=https%3A%2F%2Fimgnews.pstatic.net%2Fimage%2Forigin%2F030%2F2020%2F01%2F27%2F2864091.jpg&type=ofullfill80_80_q75_re2', 'link': 'http://www.etnews.com/20200127000111'}\n",
      "4 {'title': \"속은 '답답' 한숨만 푹!…명절 증후군 극복법\", 'img': 'https://search.pstatic.net/common/?src=https%3A%2F%2Fimgnews.pstatic.net%2Fimage%2Forigin%2F008%2F2020%2F01%2F27%2F4345976.jpg&type=ofullfill80_80_q75_re2', 'link': 'http://news.mt.co.kr/mtview.php?no=2020012217094741502'}\n",
      "5 {'title': \"명절 증후군 날려버릴 '핵잼' 서비스 다 모였다\", 'img': 'https://search.pstatic.net/common/?src=https%3A%2F%2Fimgnews.pstatic.net%2Fimage%2Forigin%2F277%2F2020%2F01%2F27%2F4612183.jpg&type=ofullfill80_80_q75_re2', 'link': 'https://view.asiae.co.kr/article/2020012615283378739'}\n",
      "6 {'title': '\\'짧은 연휴 끝\\' 명절증후군은 이제 시작..\"이렇게 극복하세요\"', 'img': 'https://search.pstatic.net/common/?src=https%3A%2F%2Fimgnews.pstatic.net%2Fimage%2Forigin%2F014%2F2020%2F01%2F27%2F4363235.jpg&type=ofullfill80_80_q75_re2', 'link': 'http://www.fnnews.com/news/202001262009244722'}\n",
      "7 {'title': \"[티브로드][전주][뉴스콕콕]말 못할 병 '명절 증후군'\", 'img': 'https://search.pstatic.net/common/?src=https%3A%2F%2Fimgnews.pstatic.net%2Fimage%2Forigin%2F5556%2F2020%2F01%2F28%2F42714.jpg&type=ofullfill80_80_q75_re2', 'link': 'http://ch1.tbroad.com/content/view?parent_no=24&content_no=64&p_no=96314'}\n",
      "8 {'title': '[출근길 인터뷰] 몸과 마음 아프게 하는 명절증후군 해소법?', 'img': 'https://search.pstatic.net/common/?src=https%3A%2F%2Fimgnews.pstatic.net%2Fimage%2Forigin%2F422%2F2020%2F01%2F28%2F411924.jpg&type=ofullfill80_80_q75_re2', 'link': 'http://www.yonhapnewstv.co.kr/MYH20200128004400038/?did=1825m'}\n",
      "9 {'title': '[오늘의 창]민족 최대의 증후군', 'img': 'https://search.pstatic.net/common/?src=https%3A%2F%2Fimgnews.pstatic.net%2Fimage%2Forigin%2F5122%2F2020%2F01%2F27%2F820598.jpg&type=ofullfill80_80_q75_re2', 'link': 'http://www.kyeongin.com/main/view.php?key=20200127010006106'}\n"
     ]
    }
   ],
   "source": [
    "for idx,news in enumerate(news_list):\n",
    "    print(idx,news)"
   ]
  },
  {
   "cell_type": "code",
   "execution_count": null,
   "metadata": {},
   "outputs": [],
   "source": []
  },
  {
   "cell_type": "code",
   "execution_count": null,
   "metadata": {},
   "outputs": [],
   "source": []
  }
 ],
 "metadata": {
  "kernelspec": {
   "display_name": "Python 3",
   "language": "python",
   "name": "python3"
  },
  "language_info": {
   "codemirror_mode": {
    "name": "ipython",
    "version": 3
   },
   "file_extension": ".py",
   "mimetype": "text/x-python",
   "name": "python",
   "nbconvert_exporter": "python",
   "pygments_lexer": "ipython3",
   "version": "3.7.6"
  }
 },
 "nbformat": 4,
 "nbformat_minor": 2
}
