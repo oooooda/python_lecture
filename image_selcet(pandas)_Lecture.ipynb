{
 "cells": [
  {
   "cell_type": "code",
   "execution_count": 19,
   "metadata": {},
   "outputs": [],
   "source": [
    "import requests\n",
    "from bs4 import BeautifulSoup\n",
    "url='https://search.naver.com/search.naver'\n",
    "params={\n",
    "    'where':'news',\n",
    "    'query':'명절증후군'\n",
    "    \n",
    "}\n",
    "resp=requests.get(url,params=params)\n",
    "resp\n",
    "soup=BeautifulSoup(resp.content)"
   ]
  },
  {
   "cell_type": "code",
   "execution_count": 20,
   "metadata": {},
   "outputs": [
    {
     "data": {
      "text/plain": [
       "[<li id=\"sp_nws1\"> <div class=\"thumb\"><a class=\"sp_thmb thmb80\" href=\"http://www.zdnet.co.kr/view/?no=20200128085846\" onclick=\"return goOtherCR(this, 'a=nws*a.img&amp;r=1&amp;i=8800011E_000000000000000002179446&amp;g=092.0002179446&amp;u='+urlencode(this.href));\" target=\"_blank\"><img alt=\"명절증후군 ‘호캉스’\" class=\"\" height=\"80\" onerror=\"this.parentNode.style.display='none';\" src=\"https://search.pstatic.net/common/?src=https%3A%2F%2Fimgnews.pstatic.net%2Fimage%2Forigin%2F092%2F2020%2F01%2F28%2F2179446.jpg&amp;type=ofullfill80_80_q75_re2\" width=\"80\"/><span class=\"thmb_v\"></span></a></div> <dl> <dt><a class=\"_sp_each_title\" href=\"http://www.zdnet.co.kr/view/?no=20200128085846\" onclick=\"return goOtherCR(this, 'a=nws*a.tit&amp;r=1&amp;i=8800011E_000000000000000002179446&amp;g=092.0002179446&amp;u='+urlencode(this.href));\" target=\"_blank\" title=\"명절증후군 ‘호캉스’로 푼다\"><strong class=\"hl\">명절증후군</strong> ‘호캉스’로 푼다</a></dt> <dd class=\"txt_inline\"><span class=\"_sp_each_source\">ZDNet Korea</span> <span class=\"bar\"></span> 1시간 전 <span class=\"bar\"></span> <a class=\"_sp_each_url\" href=\"https://news.naver.com/main/read.nhn?mode=LSD&amp;mid=sec&amp;sid1=105&amp;oid=092&amp;aid=0002179446\" onclick=\"return goOtherCR(this, 'a=nws*a.nav&amp;r=1&amp;i=8800011E_000000000000000002179446&amp;u='+urlencode(this.href));\" target=\"_blank\">네이버뉴스</a> <div class=\"scial\" id=\"sp_nws1_base\"> <span class=\"bar\"></span> <a class=\"bt_scial2 naver-splugin\" data-oninitialize=\"splugin_oninitialize('sp_nws1');\" data-style=\"unity-v2\" href=\"#\" onclick=\"goOtherTCR(this, 'a=nws*a.pplugin&amp;r=1&amp;i=8800011E_000000000000000002179446&amp;u='+urlencode(this.href)); return false;\">보내기</a> </div> </dd> <dd>민족 최대 명절인 설이 지나면서 <strong class=\"hl\">명절증후군</strong>을 극복하는 호캉스 수요가 늘어났다. 장거리 운전, 가사노동으로 쌓인 피로를 호텔의 쾌적한 환경에서 해소하는 트렌드가 뚜렷하다. 28일 여기어때의 숙소 예약 데이터에...</dd> <dd> <ul class=\"relation_lst\"> <li> <span class=\"ico_bu\"></span> <a href=\"http://www.fnnews.com/news/202001280806531361\" onclick=\"return goOtherCR(this, 'a=nws*c.tit&amp;r=2&amp;i=880000FF_000000000000000004363542&amp;g=014.0004363542&amp;u='+urlencode(this.href));\" target=\"_blank\" title=\"'명절증후군' 날리는 국내여행, 올해는 언제 떠날까\">'<strong class=\"hl\">명절증후군</strong>' 날리는 국내여행, 올해는 언제 떠날까</a> <span class=\"txt_sinfo\"> <span class=\"press\" title=\"파이낸셜뉴스\">파이낸셜뉴스</span> <span class=\"bar\"></span> 2시간 전 <span class=\"bar\"></span><a class=\"_sp_each_url\" href=\"https://news.naver.com/main/read.nhn?mode=LSD&amp;mid=sec&amp;sid1=103&amp;oid=014&amp;aid=0004363542\" onclick=\"return goOtherCR(this, 'a=nws*c.nav&amp;r=2&amp;i=880000FF_000000000000000004363542&amp;u='+urlencode(this.href));\" target=\"_blank\">네이버뉴스</a> </span> </li> <li> <span class=\"ico_bu\"></span> <a href=\"http://www.sportsseoul.com/news/read/876744\" onclick=\"return goOtherCR(this, 'a=nws*c.tit&amp;r=3&amp;i=88156f78_000000000000000000619554&amp;g=468.0000619554&amp;u='+urlencode(this.href));\" target=\"_blank\" title=\"'명절증후군' 날리는 국내여행, 27일 정점 찍고 1월말 몰려\">'<strong class=\"hl\">명절증후군</strong>' 날리는 국내여행, 27일 정점 찍고 1월말 몰려</a> <span class=\"txt_sinfo\"> <span class=\"press\" title=\"스포츠서울\">스포츠서울</span> <span class=\"bar\"></span> 2시간 전 <span class=\"bar\"></span><a class=\"_sp_each_url\" href=\"https://news.naver.com/main/read.nhn?mode=LSD&amp;mid=sec&amp;sid1=105&amp;oid=468&amp;aid=0000619554\" onclick=\"return goOtherCR(this, 'a=nws*c.nav&amp;r=3&amp;i=88156f78_000000000000000000619554&amp;u='+urlencode(this.href));\" target=\"_blank\">네이버뉴스</a> </span> </li> <li> <span class=\"ico_bu\"></span> <a href=\"http://www.getnews.co.kr/view.php?ud=20200128082226329041d0c69529_16\" onclick=\"return goOtherCR(this, 'a=nws*d.tit&amp;r=4&amp;i=88166599_000000000000000000183683&amp;g=5445.0000183683&amp;u='+urlencode(this.href));\" target=\"_blank\" title=\"'명절증후군' 날리는 국내여행, 올해는 언제 떠날까\">'<strong class=\"hl\">명절증후군</strong>' 날리는 국내여행, 올해는 언제 떠날까</a> <span class=\"txt_sinfo\"> <span class=\"press\" title=\"글로벌경제\">글로벌경제</span> <span class=\"bar\"></span> 1시간 전 </span> </li> <li> <span class=\"ico_bu\"></span> <a href=\"http://www.updownnews.co.kr/news/articleView.html?idxno=214219\" onclick=\"return goOtherCR(this, 'a=nws*d.tit&amp;r=5&amp;i=8817ca56_000000000000000000026123&amp;g=5554.0000026123&amp;u='+urlencode(this.href));\" target=\"_blank\" title=\"명절증후군 날릴 국내여행 어디가 좋을까...여기어때, 명절증후군 극복하기 위한 호캉스 추천호텔 행사 진행\"><strong class=\"hl\">명절증후군</strong> 날릴 국내여행 어디가 좋을까...여기어때, <strong class=\"hl\">명절증후군</strong> 극복하기 위...</a> <span class=\"txt_sinfo\"> <span class=\"press\" title=\"업다운뉴스\">업다운뉴스</span> <span class=\"bar\"></span> 42분 전 </span> </li> </ul> <div class=\"newr_more\"> <a class=\"more_news\" href=\"#\" onclick=\"news_submit_related_option('0920002179446', 0, 'nws*r.more'); return false;\">관련뉴스 10건 전체보기</a> </div> </dd> </dl> </li>,\n",
       " <li id=\"sp_nws6\"> <div class=\"thumb\"><a class=\"sp_thmb thmb80\" href=\"http://www.fnnews.com/news/202001271711324279\" onclick=\"return goOtherCR(this, 'a=nws*e.img&amp;r=6&amp;i=880000FF_000000000000000004363431&amp;g=014.0004363431&amp;u='+urlencode(this.href));\" target=\"_blank\"><img alt='\"명절증후군, 안마의자' class=\"\" height=\"80\" onerror=\"this.parentNode.style.display='none';\" src=\"https://search.pstatic.net/common/?src=https%3A%2F%2Fimgnews.pstatic.net%2Fimage%2Forigin%2F014%2F2020%2F01%2F27%2F4363431.jpg&amp;type=ofullfill80_80_q75_re2\" width=\"80\"/><span class=\"thmb_v\"></span></a></div> <dl> <dt><a class=\"_sp_each_title\" href=\"http://www.fnnews.com/news/202001271711324279\" onclick=\"return goOtherCR(this, 'a=nws*e.tit&amp;r=6&amp;i=880000FF_000000000000000004363431&amp;g=014.0004363431&amp;u='+urlencode(this.href));\" target=\"_blank\" title='\"명절증후군, 안마의자로 시원하게 이겨내세요\"'>\"<strong class=\"hl\">명절증후군</strong>, 안마의자로 시원하게 이겨내세요\"</a></dt> <dd class=\"txt_inline\"><span class=\"_sp_each_source\">파이낸셜뉴스</span> <span class=\"bar\"></span> <span class=\"newspaper\">19면1단</span> <span class=\"bar\"></span> 17시간 전 <span class=\"bar\"></span> <a class=\"_sp_each_url\" href=\"https://news.naver.com/main/read.nhn?mode=LSD&amp;mid=sec&amp;sid1=101&amp;oid=014&amp;aid=0004363431\" onclick=\"return goOtherCR(this, 'a=nws*e.nav&amp;r=6&amp;i=880000FF_000000000000000004363431&amp;u='+urlencode(this.href));\" target=\"_blank\">네이버뉴스</a> <div class=\"scial\" id=\"sp_nws6_base\"> <span class=\"bar\"></span> <a class=\"bt_scial2 naver-splugin\" data-oninitialize=\"splugin_oninitialize('sp_nws6');\" data-style=\"unity-v2\" href=\"#\" onclick=\"goOtherTCR(this, 'a=nws*e.pplugin&amp;r=6&amp;i=880000FF_000000000000000004363431&amp;u='+urlencode(this.href)); return false;\">보내기</a> </div> </dd> <dd>바디프랜드 관계자는 \"설날 음식 장만과 장거리 운전 등 <strong class=\"hl\">명절증후군</strong> 극복을 위해 부부간 선물 수요로 명절이 끝난 직후에도 평소보다 판매량이 많은 현상이 나타나고 있다\"고 말했다. 실제 이마트가 지난해 매출을...</dd> </dl> </li>,\n",
       " <li id=\"sp_nws7\"> <div class=\"thumb\"><a class=\"sp_thmb thmb80\" href=\"http://www.newsis.com/view/?id=NISX20200123_0000897860&amp;cID=10899&amp;pID=10800\" onclick=\"return goOtherCR(this, 'a=nws*e.img&amp;r=7&amp;i=88000127_000000000000000009670462&amp;g=003.0009670462&amp;u='+urlencode(this.href));\" target=\"_blank\"><img alt=\"‘설 연휴 끝!‘ 명절증\" class=\"\" height=\"80\" onerror=\"this.parentNode.style.display='none';\" src=\"https://search.pstatic.net/common/?src=https%3A%2F%2Fimgnews.pstatic.net%2Fimage%2Forigin%2F003%2F2020%2F01%2F27%2F9670462.jpg&amp;type=ofullfill80_80_q75_re2\" width=\"80\"/><span class=\"thmb_v\"></span></a></div> <dl> <dt><a class=\"_sp_each_title\" href=\"http://www.newsis.com/view/?id=NISX20200123_0000897860&amp;cID=10899&amp;pID=10800\" onclick=\"return goOtherCR(this, 'a=nws*e.tit&amp;r=7&amp;i=88000127_000000000000000009670462&amp;g=003.0009670462&amp;u='+urlencode(this.href));\" target=\"_blank\" title=\"'설 연휴 끝!' 명절증후군 이렇게 이겨보세요\">'설 연휴 끝!' <strong class=\"hl\">명절증후군</strong> 이렇게 이겨보세요</a></dt> <dd class=\"txt_inline\"><span class=\"_sp_each_source\">뉴시스</span> <span class=\"bar\"></span> 1일 전 <span class=\"bar\"></span> <a class=\"_sp_each_url\" href=\"https://news.naver.com/main/read.nhn?mode=LSD&amp;mid=sec&amp;sid1=102&amp;oid=003&amp;aid=0009670462\" onclick=\"return goOtherCR(this, 'a=nws*e.nav&amp;r=7&amp;i=88000127_000000000000000009670462&amp;u='+urlencode(this.href));\" target=\"_blank\">네이버뉴스</a> <div class=\"scial\" id=\"sp_nws7_base\"> <span class=\"bar\"></span> <a class=\"bt_scial2 naver-splugin\" data-oninitialize=\"splugin_oninitialize('sp_nws7');\" data-style=\"unity-v2\" href=\"#\" onclick=\"goOtherTCR(this, 'a=nws*e.pplugin&amp;r=7&amp;i=88000127_000000000000000009670462&amp;u='+urlencode(this.href)); return false;\">보내기</a> </div> </dd> <dd>4일간의 긴 설 명절이 끝나가면서 <strong class=\"hl\">명절증후군</strong>에 시달리는 사람들이 많다. <strong class=\"hl\">명절증후군</strong>은 피로, 무기력, 우울증, 불안감 등 정신적인 증상 뿐 아니라 두통, 소화불량, 디스크, 손목터널 증후군 등 육체적 증상까지 다양하게...</dd> </dl> </li>,\n",
       " <li id=\"sp_nws8\"> <div class=\"thumb\"><a class=\"sp_thmb thmb80\" href=\"http://www.etnews.com/20200127000111\" onclick=\"return goOtherCR(this, 'a=nws*e.img&amp;r=8&amp;i=880000EA_000000000000000002864091&amp;g=030.0002864091&amp;u='+urlencode(this.href));\" target=\"_blank\"><img alt=\"명절 증후군, 다양한 \" class=\"\" height=\"80\" onerror=\"this.parentNode.style.display='none';\" src=\"https://search.pstatic.net/common/?src=https%3A%2F%2Fimgnews.pstatic.net%2Fimage%2Forigin%2F030%2F2020%2F01%2F27%2F2864091.jpg&amp;type=ofullfill80_80_q75_re2\" width=\"80\"/><span class=\"thmb_v\"></span></a></div> <dl> <dt><a class=\"_sp_each_title\" href=\"http://www.etnews.com/20200127000111\" onclick=\"return goOtherCR(this, 'a=nws*e.tit&amp;r=8&amp;i=880000EA_000000000000000002864091&amp;g=030.0002864091&amp;u='+urlencode(this.href));\" target=\"_blank\" title=\"명절 증후군, 다양한 안마 가전 이용하세요~\"><strong class=\"hl\">명절 증후군</strong>, 다양한 안마 가전 이용하세요~</a></dt> <dd class=\"txt_inline\"><span class=\"_sp_each_source\">전자신문</span> <span class=\"bar\"></span> <span class=\"newspaper\">3면3단</span> <span class=\"bar\"></span> 20시간 전 <span class=\"bar\"></span> <a class=\"_sp_each_url\" href=\"https://news.naver.com/main/read.nhn?mode=LSD&amp;mid=sec&amp;sid1=105&amp;oid=030&amp;aid=0002864091\" onclick=\"return goOtherCR(this, 'a=nws*e.nav&amp;r=8&amp;i=880000EA_000000000000000002864091&amp;u='+urlencode(this.href));\" target=\"_blank\">네이버뉴스</a> <div class=\"scial\" id=\"sp_nws8_base\"> <span class=\"bar\"></span> <a class=\"bt_scial2 naver-splugin\" data-oninitialize=\"splugin_oninitialize('sp_nws8');\" data-style=\"unity-v2\" href=\"#\" onclick=\"goOtherTCR(this, 'a=nws*e.pplugin&amp;r=8&amp;i=880000EA_000000000000000002864091&amp;u='+urlencode(this.href)); return false;\">보내기</a> </div> </dd> <dd>명절이 지나면 각자의 방법으로 <strong class=\"hl\">명절 증후군</strong>을 극복한다. <strong class=\"hl\">명절 증후군</strong>으로 힘들어 하는 부모와 아내 등에게 피로를 풀 수 있는 전자기기를 선물하기 위해 명절 전후로 많은 고객이 가전매장을 찾는다. 27일 서울...</dd> </dl> </li>,\n",
       " <li id=\"sp_nws9\"> <div class=\"thumb\"><a class=\"sp_thmb thmb80\" href=\"http://news.mt.co.kr/mtview.php?no=2020012217094741502\" onclick=\"return goOtherCR(this, 'a=nws*j.img&amp;r=9&amp;i=880000C2_000000000000000004345976&amp;g=008.0004345976&amp;u='+urlencode(this.href));\" target=\"_blank\"><img alt=\"속은 ‘답답‘ 한숨만 푹\" class=\"\" height=\"80\" onerror=\"this.parentNode.style.display='none';\" src=\"https://search.pstatic.net/common/?src=https%3A%2F%2Fimgnews.pstatic.net%2Fimage%2Forigin%2F008%2F2020%2F01%2F27%2F4345976.jpg&amp;type=ofullfill80_80_q75_re2\" width=\"80\"/><span class=\"thmb_v\"></span></a></div> <dl> <dt><a class=\"_sp_each_title\" href=\"http://news.mt.co.kr/mtview.php?no=2020012217094741502\" onclick=\"return goOtherCR(this, 'a=nws*j.tit&amp;r=9&amp;i=880000C2_000000000000000004345976&amp;g=008.0004345976&amp;u='+urlencode(this.href));\" target=\"_blank\" title=\"속은 '답답' 한숨만 푹!…명절 증후군 극복법\">속은 '답답' 한숨만 푹!…<strong class=\"hl\">명절 증후군</strong> 극복법</a></dt> <dd class=\"txt_inline\"><span class=\"_sp_each_source\">머니투데이<i class=\"sprenew api_ico_pick\">언론사 선정</i></span> <span class=\"bar\"></span> 1일 전 <span class=\"bar\"></span> <a class=\"_sp_each_url\" href=\"https://news.naver.com/main/read.nhn?mode=LSD&amp;mid=sec&amp;sid1=103&amp;oid=008&amp;aid=0004345976\" onclick=\"return goOtherCR(this, 'a=nws*j.nav&amp;r=9&amp;i=880000C2_000000000000000004345976&amp;u='+urlencode(this.href));\" target=\"_blank\">네이버뉴스</a> <div class=\"scial\" id=\"sp_nws9_base\"> <span class=\"bar\"></span> <a class=\"bt_scial2 naver-splugin\" data-oninitialize=\"splugin_oninitialize('sp_nws9');\" data-style=\"unity-v2\" href=\"#\" onclick=\"goOtherTCR(this, 'a=nws*j.pplugin&amp;r=9&amp;i=880000C2_000000000000000004345976&amp;u='+urlencode(this.href)); return false;\">보내기</a> </div> </dd> <dd>[[스타일 지식인] <strong class=\"hl\">명절증후군</strong>, 2030대에도 해당돼…스트레스 해소 '이렇게'] Q.&gt; 설 명절을 맞아 고향에 다녀온 20대입니다. 오랜만에 뵌 친척 어르신들 잔소리, 잘 넘겼다고 생각했는데 괜찮던 머리가 지끈지끈 아프고...</dd> </dl> </li>,\n",
       " <li id=\"sp_nws10\"> <div class=\"thumb\"><a class=\"sp_thmb thmb80\" href=\"https://view.asiae.co.kr/article/2020012615283378739\" onclick=\"return goOtherCR(this, 'a=nws*e.img&amp;r=10&amp;i=88000385_000000000000000004612183&amp;g=277.0004612183&amp;u='+urlencode(this.href));\" target=\"_blank\"><img alt=\"명절 증후군 날려버릴\" class=\"\" height=\"80\" onerror=\"this.parentNode.style.display='none';\" src=\"https://search.pstatic.net/common/?src=https%3A%2F%2Fimgnews.pstatic.net%2Fimage%2Forigin%2F277%2F2020%2F01%2F27%2F4612183.jpg&amp;type=ofullfill80_80_q75_re2\" width=\"80\"/><span class=\"thmb_v\"></span></a></div> <dl> <dt><a class=\"_sp_each_title\" href=\"https://view.asiae.co.kr/article/2020012615283378739\" onclick=\"return goOtherCR(this, 'a=nws*e.tit&amp;r=10&amp;i=88000385_000000000000000004612183&amp;g=277.0004612183&amp;u='+urlencode(this.href));\" target=\"_blank\" title=\"명절 증후군 날려버릴 '핵잼' 서비스 다 모였다\"><strong class=\"hl\">명절 증후군</strong> 날려버릴 '핵잼' 서비스 다 모였다</a></dt> <dd class=\"txt_inline\"><span class=\"_sp_each_source\">아시아경제</span> <span class=\"bar\"></span> 1일 전 <span class=\"bar\"></span> <a class=\"_sp_each_url\" href=\"https://news.naver.com/main/read.nhn?mode=LSD&amp;mid=sec&amp;sid1=101&amp;oid=277&amp;aid=0004612183\" onclick=\"return goOtherCR(this, 'a=nws*e.nav&amp;r=10&amp;i=88000385_000000000000000004612183&amp;u='+urlencode(this.href));\" target=\"_blank\">네이버뉴스</a> <div class=\"scial\" id=\"sp_nws10_base\"> <span class=\"bar\"></span> <a class=\"bt_scial2 naver-splugin\" data-oninitialize=\"splugin_oninitialize('sp_nws10');\" data-style=\"unity-v2\" href=\"#\" onclick=\"goOtherTCR(this, 'a=nws*e.pplugin&amp;r=10&amp;i=88000385_000000000000000004612183&amp;u='+urlencode(this.href)); return false;\">보내기</a> </div> </dd> <dd>설 연휴가 끝나가면서 명절 기간 동안 심신의 피로와 스트레스 등으로 생길 수 있는 <strong class=\"hl\">명절 증후군</strong>을 해소할 수 있는 다양한 서비스들에 관심이 집중되고 있다. 이커머스 업체들은 연휴 마지막 날 즐길거리를 한데 모았다....</dd> </dl> </li>,\n",
       " <li id=\"sp_nws11\"> <div class=\"thumb\"><a class=\"sp_thmb thmb80\" href=\"http://www.fnnews.com/news/202001262009244722\" onclick=\"return goOtherCR(this, 'a=nws*j.img&amp;r=11&amp;i=880000FF_000000000000000004363235&amp;g=014.0004363235&amp;u='+urlencode(this.href));\" target=\"_blank\"><img alt=\"‘짧은 연휴 끝‘ 명절증\" class=\"\" height=\"80\" onerror=\"this.parentNode.style.display='none';\" src=\"https://search.pstatic.net/common/?src=https%3A%2F%2Fimgnews.pstatic.net%2Fimage%2Forigin%2F014%2F2020%2F01%2F27%2F4363235.jpg&amp;type=ofullfill80_80_q75_re2\" width=\"80\"/><span class=\"thmb_v\"></span></a></div> <dl> <dt><a class=\"_sp_each_title\" href=\"http://www.fnnews.com/news/202001262009244722\" onclick=\"return goOtherCR(this, 'a=nws*j.tit&amp;r=11&amp;i=880000FF_000000000000000004363235&amp;g=014.0004363235&amp;u='+urlencode(this.href));\" target=\"_blank\" title=\"'짧은 연휴 끝' 명절증후군은 이제 시작..&quot;이렇게 극복하세요&quot;\">'짧은 연휴 끝' <strong class=\"hl\">명절증후군</strong>은 이제 시작..\"이렇게 극복하세요\"</a></dt> <dd class=\"txt_inline\"><span class=\"_sp_each_source\">파이낸셜뉴스<i class=\"sprenew api_ico_pick\">언론사 선정</i></span> <span class=\"bar\"></span> 1일 전 <span class=\"bar\"></span> <a class=\"_sp_each_url\" href=\"https://news.naver.com/main/read.nhn?mode=LSD&amp;mid=sec&amp;sid1=102&amp;oid=014&amp;aid=0004363235\" onclick=\"return goOtherCR(this, 'a=nws*j.nav&amp;r=11&amp;i=880000FF_000000000000000004363235&amp;u='+urlencode(this.href));\" target=\"_blank\">네이버뉴스</a> <div class=\"scial\" id=\"sp_nws11_base\"> <span class=\"bar\"></span> <a class=\"bt_scial2 naver-splugin\" data-oninitialize=\"splugin_oninitialize('sp_nws11');\" data-style=\"unity-v2\" href=\"#\" onclick=\"goOtherTCR(this, 'a=nws*j.pplugin&amp;r=11&amp;i=880000FF_000000000000000004363235&amp;u='+urlencode(this.href)); return false;\">보내기</a> </div> </dd> <dd>일명 '<strong class=\"hl\">명절증후군</strong>'이라고 불리는 명절 스트레스부터 연휴 끝 출근에 어려움을 겪는 '출근 스트레스'까지, 현대인들이 명절 끝 극복해야 할 장애물들은 한 두 가지가 아니다. <strong class=\"hl\">명절증후군</strong>은 피로, 무기력, 우울증, 불안감 등...</dd> </dl> </li>,\n",
       " <li id=\"sp_nws12\"> <div class=\"thumb\"><a class=\"sp_thmb thmb80\" href=\"http://ch1.tbroad.com/content/view?parent_no=24&amp;content_no=64&amp;p_no=96314\" onclick=\"return goOtherCR(this, 'a=nws*f.img&amp;r=12&amp;i=8817ca54_000000000000000000042714&amp;g=5556.0000042714&amp;u='+urlencode(this.href));\" target=\"_blank\"><img alt=\"[티브로드][전주][뉴스\" class=\"\" height=\"80\" onerror=\"this.parentNode.style.display='none';\" src=\"https://search.pstatic.net/common/?src=https%3A%2F%2Fimgnews.pstatic.net%2Fimage%2Forigin%2F5556%2F2020%2F01%2F28%2F42714.jpg&amp;type=ofullfill80_80_q75_re2\" width=\"80\"/><span class=\"thmb_v\"></span></a></div> <dl> <dt><a class=\"_sp_each_url _sp_each_title\" href=\"http://ch1.tbroad.com/content/view?parent_no=24&amp;content_no=64&amp;p_no=96314\" onclick=\"return goOtherCR(this, 'a=nws*f.tit&amp;r=12&amp;i=8817ca54_000000000000000000042714&amp;g=5556.0000042714&amp;u='+urlencode(this.href));\" target=\"_blank\" title=\"[티브로드][전주][뉴스콕콕]말 못할 병 '명절 증후군'\">[티브로드][전주][뉴스콕콕]말 못할 병 '<strong class=\"hl\">명절 증후군</strong>'</a></dt> <dd class=\"txt_inline\"><span class=\"_sp_each_source\">티브로드</span> <span class=\"bar\"></span> 1시간 전 <div class=\"scial\" id=\"sp_nws12_base\"> <span class=\"bar\"></span> <a class=\"bt_scial2 naver-splugin\" data-oninitialize=\"splugin_oninitialize('sp_nws12');\" data-style=\"unity-v2\" href=\"#\" onclick=\"goOtherTCR(this, 'a=nws*f.pplugin&amp;r=12&amp;i=8817ca54_000000000000000000042714&amp;u='+urlencode(this.href)); return false;\">보내기</a> </div> </dd> <dd>이유는 바로 <strong class=\"hl\">명절증후군</strong> 때문입니다. 온몸에 힘이 없고 쑤시고, 뭐라 콕 찝어 말할 수 없는 <strong class=\"hl\">명절 증후군</strong>. 병원을 찾는 상당수는 주부들이지만 요즘은 남성들도, 아이들도 청년들도, 청소년들도 찾는다고 합니다. 이번...</dd> </dl> </li>,\n",
       " <li id=\"sp_nws13\"> <div class=\"thumb\"><a class=\"sp_thmb thmb80\" href=\"http://www.yonhapnewstv.co.kr/MYH20200128004400038/?did=1825m\" onclick=\"return goOtherCR(this, 'a=nws*e.img&amp;r=13&amp;i=08138262_000000000000000000411924&amp;g=422.0000411924&amp;u='+urlencode(this.href));\" target=\"_blank\"><img alt=\"[출근길 인터뷰] 몸과\" class=\"\" height=\"80\" onerror=\"this.parentNode.style.display='none';\" src=\"https://search.pstatic.net/common/?src=https%3A%2F%2Fimgnews.pstatic.net%2Fimage%2Forigin%2F422%2F2020%2F01%2F28%2F411924.jpg&amp;type=ofullfill80_80_q75_re2\" width=\"80\"/><span class=\"thmb_play\"></span><span class=\"thmb_v\"></span></a></div> <dl> <dt><a class=\"_sp_each_title\" href=\"http://www.yonhapnewstv.co.kr/MYH20200128004400038/?did=1825m\" onclick=\"return goOtherCR(this, 'a=nws*e.tit&amp;r=13&amp;i=08138262_000000000000000000411924&amp;g=422.0000411924&amp;u='+urlencode(this.href));\" target=\"_blank\" title=\"[출근길 인터뷰] 몸과 마음 아프게 하는 명절증후군 해소법?\">[출근길 인터뷰] 몸과 마음 아프게 하는 <strong class=\"hl\">명절증후군</strong> 해소법?</a></dt> <dd class=\"txt_inline\"><span class=\"_sp_each_source\">연합뉴스TV</span> <span class=\"bar\"></span> 39분 전 <span class=\"bar\"></span> <a class=\"_sp_each_url\" href=\"https://news.naver.com/main/read.nhn?mode=LSD&amp;mid=sec&amp;sid1=101&amp;oid=422&amp;aid=0000411924\" onclick=\"return goOtherCR(this, 'a=nws*e.nav&amp;r=13&amp;i=08138262_000000000000000000411924&amp;u='+urlencode(this.href));\" target=\"_blank\">네이버뉴스</a> <div class=\"scial\" id=\"sp_nws13_base\"> <span class=\"bar\"></span> <a class=\"bt_scial2 naver-splugin\" data-oninitialize=\"splugin_oninitialize('sp_nws13');\" data-style=\"unity-v2\" href=\"#\" onclick=\"goOtherTCR(this, 'a=nws*e.pplugin&amp;r=13&amp;i=08138262_000000000000000000411924&amp;u='+urlencode(this.href)); return false;\">보내기</a> </div> </dd> <dd>이번 연휴는 기간이 짧아 신체적인 피로감 등 <strong class=\"hl\">명절증후군</strong> 걱정을 하는 분들이 더 많다고 합니다. &lt;박진형의 출근길 인터뷰&gt; 오늘은 허양임 인제대 서울백병원 교수를 만나 장거리 운전이나 가사일로 지친 몸과 마음...</dd> </dl> </li>,\n",
       " <li id=\"sp_nws14\"> <div class=\"thumb\"><a class=\"sp_thmb thmb80\" href=\"http://www.kyeongin.com/main/view.php?key=20200127010006106\" onclick=\"return goOtherCR(this, 'a=nws*f.img&amp;r=14&amp;i=88099088_000000000000000000820598&amp;g=5122.0000820598&amp;u='+urlencode(this.href));\" target=\"_blank\"><img alt=\"[오늘의 창]민족 최대\" class=\"\" height=\"80\" onerror=\"this.parentNode.style.display='none';\" src=\"https://search.pstatic.net/common/?src=https%3A%2F%2Fimgnews.pstatic.net%2Fimage%2Forigin%2F5122%2F2020%2F01%2F27%2F820598.jpg&amp;type=ofullfill80_80_q75_re2\" width=\"80\"/><span class=\"thmb_v\"></span></a></div> <dl> <dt><a class=\"_sp_each_url _sp_each_title\" href=\"http://www.kyeongin.com/main/view.php?key=20200127010006106\" onclick=\"return goOtherCR(this, 'a=nws*f.tit&amp;r=14&amp;i=88099088_000000000000000000820598&amp;g=5122.0000820598&amp;u='+urlencode(this.href));\" target=\"_blank\" title=\"[오늘의 창]민족 최대의 증후군\">[오늘의 창]민족 최대의 <strong class=\"hl\">증후군</strong></a></dt> <dd class=\"txt_inline\"><span class=\"_sp_each_source\">경인일보</span> <span class=\"bar\"></span> 13시간 전 <div class=\"scial\" id=\"sp_nws14_base\"> <span class=\"bar\"></span> <a class=\"bt_scial2 naver-splugin\" data-oninitialize=\"splugin_oninitialize('sp_nws14');\" data-style=\"unity-v2\" href=\"#\" onclick=\"goOtherTCR(this, 'a=nws*f.pplugin&amp;r=14&amp;i=88099088_000000000000000000820598&amp;u='+urlencode(this.href)); return false;\">보내기</a> </div> </dd> <dd>올해도 어김없이 <strong class=\"hl\">명절 증후군</strong>과 차례상 간소화 이슈, 연휴 해외여행 증가 소식이 뉴스면 한쪽을 채웠다. 그만큼 제례는 한국사회에서 무시하기 힘든 관습이다.농경사회와 비교해 가족 구성원 수가 줄고 주거형태나...</dd> </dl> </li>]"
      ]
     },
     "execution_count": 20,
     "metadata": {},
     "output_type": "execute_result"
    }
   ],
   "source": [
    "news_items=soup.select('ul.type01>li')\n",
    "news_items"
   ]
  },
  {
   "cell_type": "markdown",
   "metadata": {},
   "source": [
    "### select는 find_all과 같기 때문에 list형태로 여러개의 데이터가 들어오게 된다. news_items=soup.select('ul.type01>li')의 경우find_all('ul',class_='type01')과 같다. img_tag=news_item.select('div.thumb img')이 문장에서 하나의 데이터를 지정해 주었기 때문에 리스트의 0번째에서만 데이터가 저장 되어 있기 때문에 [0]을 해준 것 이다."
   ]
  },
  {
   "cell_type": "code",
   "execution_count": 27,
   "metadata": {},
   "outputs": [
    {
     "name": "stdout",
     "output_type": "stream",
     "text": [
      "[]\n",
      "[{'title': '명절증후군 ‘호캉스’로 푼다', 'img': 'https://search.pstatic.net/common/?src=https%3A%2F%2Fimgnews.pstatic.net%2Fimage%2Forigin%2F092%2F2020%2F01%2F28%2F2179446.jpg&type=ofullfill80_80_q75_re2', 'link': 'http://www.zdnet.co.kr/view/?no=20200128085846'}]\n",
      "[{'title': '명절증후군 ‘호캉스’로 푼다', 'img': 'https://search.pstatic.net/common/?src=https%3A%2F%2Fimgnews.pstatic.net%2Fimage%2Forigin%2F092%2F2020%2F01%2F28%2F2179446.jpg&type=ofullfill80_80_q75_re2', 'link': 'http://www.zdnet.co.kr/view/?no=20200128085846'}, {'title': '\"명절증후군, 안마의자로 시원하게 이겨내세요\"', 'img': 'https://search.pstatic.net/common/?src=https%3A%2F%2Fimgnews.pstatic.net%2Fimage%2Forigin%2F014%2F2020%2F01%2F27%2F4363431.jpg&type=ofullfill80_80_q75_re2', 'link': 'http://www.fnnews.com/news/202001271711324279'}]\n",
      "[{'title': '명절증후군 ‘호캉스’로 푼다', 'img': 'https://search.pstatic.net/common/?src=https%3A%2F%2Fimgnews.pstatic.net%2Fimage%2Forigin%2F092%2F2020%2F01%2F28%2F2179446.jpg&type=ofullfill80_80_q75_re2', 'link': 'http://www.zdnet.co.kr/view/?no=20200128085846'}, {'title': '\"명절증후군, 안마의자로 시원하게 이겨내세요\"', 'img': 'https://search.pstatic.net/common/?src=https%3A%2F%2Fimgnews.pstatic.net%2Fimage%2Forigin%2F014%2F2020%2F01%2F27%2F4363431.jpg&type=ofullfill80_80_q75_re2', 'link': 'http://www.fnnews.com/news/202001271711324279'}, {'title': \"'설 연휴 끝!' 명절증후군 이렇게 이겨보세요\", 'img': 'https://search.pstatic.net/common/?src=https%3A%2F%2Fimgnews.pstatic.net%2Fimage%2Forigin%2F003%2F2020%2F01%2F27%2F9670462.jpg&type=ofullfill80_80_q75_re2', 'link': 'http://www.newsis.com/view/?id=NISX20200123_0000897860&cID=10899&pID=10800'}]\n",
      "[{'title': '명절증후군 ‘호캉스’로 푼다', 'img': 'https://search.pstatic.net/common/?src=https%3A%2F%2Fimgnews.pstatic.net%2Fimage%2Forigin%2F092%2F2020%2F01%2F28%2F2179446.jpg&type=ofullfill80_80_q75_re2', 'link': 'http://www.zdnet.co.kr/view/?no=20200128085846'}, {'title': '\"명절증후군, 안마의자로 시원하게 이겨내세요\"', 'img': 'https://search.pstatic.net/common/?src=https%3A%2F%2Fimgnews.pstatic.net%2Fimage%2Forigin%2F014%2F2020%2F01%2F27%2F4363431.jpg&type=ofullfill80_80_q75_re2', 'link': 'http://www.fnnews.com/news/202001271711324279'}, {'title': \"'설 연휴 끝!' 명절증후군 이렇게 이겨보세요\", 'img': 'https://search.pstatic.net/common/?src=https%3A%2F%2Fimgnews.pstatic.net%2Fimage%2Forigin%2F003%2F2020%2F01%2F27%2F9670462.jpg&type=ofullfill80_80_q75_re2', 'link': 'http://www.newsis.com/view/?id=NISX20200123_0000897860&cID=10899&pID=10800'}, {'title': '명절 증후군, 다양한 안마 가전 이용하세요~', 'img': 'https://search.pstatic.net/common/?src=https%3A%2F%2Fimgnews.pstatic.net%2Fimage%2Forigin%2F030%2F2020%2F01%2F27%2F2864091.jpg&type=ofullfill80_80_q75_re2', 'link': 'http://www.etnews.com/20200127000111'}]\n",
      "[{'title': '명절증후군 ‘호캉스’로 푼다', 'img': 'https://search.pstatic.net/common/?src=https%3A%2F%2Fimgnews.pstatic.net%2Fimage%2Forigin%2F092%2F2020%2F01%2F28%2F2179446.jpg&type=ofullfill80_80_q75_re2', 'link': 'http://www.zdnet.co.kr/view/?no=20200128085846'}, {'title': '\"명절증후군, 안마의자로 시원하게 이겨내세요\"', 'img': 'https://search.pstatic.net/common/?src=https%3A%2F%2Fimgnews.pstatic.net%2Fimage%2Forigin%2F014%2F2020%2F01%2F27%2F4363431.jpg&type=ofullfill80_80_q75_re2', 'link': 'http://www.fnnews.com/news/202001271711324279'}, {'title': \"'설 연휴 끝!' 명절증후군 이렇게 이겨보세요\", 'img': 'https://search.pstatic.net/common/?src=https%3A%2F%2Fimgnews.pstatic.net%2Fimage%2Forigin%2F003%2F2020%2F01%2F27%2F9670462.jpg&type=ofullfill80_80_q75_re2', 'link': 'http://www.newsis.com/view/?id=NISX20200123_0000897860&cID=10899&pID=10800'}, {'title': '명절 증후군, 다양한 안마 가전 이용하세요~', 'img': 'https://search.pstatic.net/common/?src=https%3A%2F%2Fimgnews.pstatic.net%2Fimage%2Forigin%2F030%2F2020%2F01%2F27%2F2864091.jpg&type=ofullfill80_80_q75_re2', 'link': 'http://www.etnews.com/20200127000111'}, {'title': \"속은 '답답' 한숨만 푹!…명절 증후군 극복법\", 'img': 'https://search.pstatic.net/common/?src=https%3A%2F%2Fimgnews.pstatic.net%2Fimage%2Forigin%2F008%2F2020%2F01%2F27%2F4345976.jpg&type=ofullfill80_80_q75_re2', 'link': 'http://news.mt.co.kr/mtview.php?no=2020012217094741502'}]\n",
      "[{'title': '명절증후군 ‘호캉스’로 푼다', 'img': 'https://search.pstatic.net/common/?src=https%3A%2F%2Fimgnews.pstatic.net%2Fimage%2Forigin%2F092%2F2020%2F01%2F28%2F2179446.jpg&type=ofullfill80_80_q75_re2', 'link': 'http://www.zdnet.co.kr/view/?no=20200128085846'}, {'title': '\"명절증후군, 안마의자로 시원하게 이겨내세요\"', 'img': 'https://search.pstatic.net/common/?src=https%3A%2F%2Fimgnews.pstatic.net%2Fimage%2Forigin%2F014%2F2020%2F01%2F27%2F4363431.jpg&type=ofullfill80_80_q75_re2', 'link': 'http://www.fnnews.com/news/202001271711324279'}, {'title': \"'설 연휴 끝!' 명절증후군 이렇게 이겨보세요\", 'img': 'https://search.pstatic.net/common/?src=https%3A%2F%2Fimgnews.pstatic.net%2Fimage%2Forigin%2F003%2F2020%2F01%2F27%2F9670462.jpg&type=ofullfill80_80_q75_re2', 'link': 'http://www.newsis.com/view/?id=NISX20200123_0000897860&cID=10899&pID=10800'}, {'title': '명절 증후군, 다양한 안마 가전 이용하세요~', 'img': 'https://search.pstatic.net/common/?src=https%3A%2F%2Fimgnews.pstatic.net%2Fimage%2Forigin%2F030%2F2020%2F01%2F27%2F2864091.jpg&type=ofullfill80_80_q75_re2', 'link': 'http://www.etnews.com/20200127000111'}, {'title': \"속은 '답답' 한숨만 푹!…명절 증후군 극복법\", 'img': 'https://search.pstatic.net/common/?src=https%3A%2F%2Fimgnews.pstatic.net%2Fimage%2Forigin%2F008%2F2020%2F01%2F27%2F4345976.jpg&type=ofullfill80_80_q75_re2', 'link': 'http://news.mt.co.kr/mtview.php?no=2020012217094741502'}, {'title': \"명절 증후군 날려버릴 '핵잼' 서비스 다 모였다\", 'img': 'https://search.pstatic.net/common/?src=https%3A%2F%2Fimgnews.pstatic.net%2Fimage%2Forigin%2F277%2F2020%2F01%2F27%2F4612183.jpg&type=ofullfill80_80_q75_re2', 'link': 'https://view.asiae.co.kr/article/2020012615283378739'}]\n",
      "[{'title': '명절증후군 ‘호캉스’로 푼다', 'img': 'https://search.pstatic.net/common/?src=https%3A%2F%2Fimgnews.pstatic.net%2Fimage%2Forigin%2F092%2F2020%2F01%2F28%2F2179446.jpg&type=ofullfill80_80_q75_re2', 'link': 'http://www.zdnet.co.kr/view/?no=20200128085846'}, {'title': '\"명절증후군, 안마의자로 시원하게 이겨내세요\"', 'img': 'https://search.pstatic.net/common/?src=https%3A%2F%2Fimgnews.pstatic.net%2Fimage%2Forigin%2F014%2F2020%2F01%2F27%2F4363431.jpg&type=ofullfill80_80_q75_re2', 'link': 'http://www.fnnews.com/news/202001271711324279'}, {'title': \"'설 연휴 끝!' 명절증후군 이렇게 이겨보세요\", 'img': 'https://search.pstatic.net/common/?src=https%3A%2F%2Fimgnews.pstatic.net%2Fimage%2Forigin%2F003%2F2020%2F01%2F27%2F9670462.jpg&type=ofullfill80_80_q75_re2', 'link': 'http://www.newsis.com/view/?id=NISX20200123_0000897860&cID=10899&pID=10800'}, {'title': '명절 증후군, 다양한 안마 가전 이용하세요~', 'img': 'https://search.pstatic.net/common/?src=https%3A%2F%2Fimgnews.pstatic.net%2Fimage%2Forigin%2F030%2F2020%2F01%2F27%2F2864091.jpg&type=ofullfill80_80_q75_re2', 'link': 'http://www.etnews.com/20200127000111'}, {'title': \"속은 '답답' 한숨만 푹!…명절 증후군 극복법\", 'img': 'https://search.pstatic.net/common/?src=https%3A%2F%2Fimgnews.pstatic.net%2Fimage%2Forigin%2F008%2F2020%2F01%2F27%2F4345976.jpg&type=ofullfill80_80_q75_re2', 'link': 'http://news.mt.co.kr/mtview.php?no=2020012217094741502'}, {'title': \"명절 증후군 날려버릴 '핵잼' 서비스 다 모였다\", 'img': 'https://search.pstatic.net/common/?src=https%3A%2F%2Fimgnews.pstatic.net%2Fimage%2Forigin%2F277%2F2020%2F01%2F27%2F4612183.jpg&type=ofullfill80_80_q75_re2', 'link': 'https://view.asiae.co.kr/article/2020012615283378739'}, {'title': '\\'짧은 연휴 끝\\' 명절증후군은 이제 시작..\"이렇게 극복하세요\"', 'img': 'https://search.pstatic.net/common/?src=https%3A%2F%2Fimgnews.pstatic.net%2Fimage%2Forigin%2F014%2F2020%2F01%2F27%2F4363235.jpg&type=ofullfill80_80_q75_re2', 'link': 'http://www.fnnews.com/news/202001262009244722'}]\n",
      "[{'title': '명절증후군 ‘호캉스’로 푼다', 'img': 'https://search.pstatic.net/common/?src=https%3A%2F%2Fimgnews.pstatic.net%2Fimage%2Forigin%2F092%2F2020%2F01%2F28%2F2179446.jpg&type=ofullfill80_80_q75_re2', 'link': 'http://www.zdnet.co.kr/view/?no=20200128085846'}, {'title': '\"명절증후군, 안마의자로 시원하게 이겨내세요\"', 'img': 'https://search.pstatic.net/common/?src=https%3A%2F%2Fimgnews.pstatic.net%2Fimage%2Forigin%2F014%2F2020%2F01%2F27%2F4363431.jpg&type=ofullfill80_80_q75_re2', 'link': 'http://www.fnnews.com/news/202001271711324279'}, {'title': \"'설 연휴 끝!' 명절증후군 이렇게 이겨보세요\", 'img': 'https://search.pstatic.net/common/?src=https%3A%2F%2Fimgnews.pstatic.net%2Fimage%2Forigin%2F003%2F2020%2F01%2F27%2F9670462.jpg&type=ofullfill80_80_q75_re2', 'link': 'http://www.newsis.com/view/?id=NISX20200123_0000897860&cID=10899&pID=10800'}, {'title': '명절 증후군, 다양한 안마 가전 이용하세요~', 'img': 'https://search.pstatic.net/common/?src=https%3A%2F%2Fimgnews.pstatic.net%2Fimage%2Forigin%2F030%2F2020%2F01%2F27%2F2864091.jpg&type=ofullfill80_80_q75_re2', 'link': 'http://www.etnews.com/20200127000111'}, {'title': \"속은 '답답' 한숨만 푹!…명절 증후군 극복법\", 'img': 'https://search.pstatic.net/common/?src=https%3A%2F%2Fimgnews.pstatic.net%2Fimage%2Forigin%2F008%2F2020%2F01%2F27%2F4345976.jpg&type=ofullfill80_80_q75_re2', 'link': 'http://news.mt.co.kr/mtview.php?no=2020012217094741502'}, {'title': \"명절 증후군 날려버릴 '핵잼' 서비스 다 모였다\", 'img': 'https://search.pstatic.net/common/?src=https%3A%2F%2Fimgnews.pstatic.net%2Fimage%2Forigin%2F277%2F2020%2F01%2F27%2F4612183.jpg&type=ofullfill80_80_q75_re2', 'link': 'https://view.asiae.co.kr/article/2020012615283378739'}, {'title': '\\'짧은 연휴 끝\\' 명절증후군은 이제 시작..\"이렇게 극복하세요\"', 'img': 'https://search.pstatic.net/common/?src=https%3A%2F%2Fimgnews.pstatic.net%2Fimage%2Forigin%2F014%2F2020%2F01%2F27%2F4363235.jpg&type=ofullfill80_80_q75_re2', 'link': 'http://www.fnnews.com/news/202001262009244722'}, {'title': \"[티브로드][전주][뉴스콕콕]말 못할 병 '명절 증후군'\", 'img': 'https://search.pstatic.net/common/?src=https%3A%2F%2Fimgnews.pstatic.net%2Fimage%2Forigin%2F5556%2F2020%2F01%2F28%2F42714.jpg&type=ofullfill80_80_q75_re2', 'link': 'http://ch1.tbroad.com/content/view?parent_no=24&content_no=64&p_no=96314'}]\n",
      "[{'title': '명절증후군 ‘호캉스’로 푼다', 'img': 'https://search.pstatic.net/common/?src=https%3A%2F%2Fimgnews.pstatic.net%2Fimage%2Forigin%2F092%2F2020%2F01%2F28%2F2179446.jpg&type=ofullfill80_80_q75_re2', 'link': 'http://www.zdnet.co.kr/view/?no=20200128085846'}, {'title': '\"명절증후군, 안마의자로 시원하게 이겨내세요\"', 'img': 'https://search.pstatic.net/common/?src=https%3A%2F%2Fimgnews.pstatic.net%2Fimage%2Forigin%2F014%2F2020%2F01%2F27%2F4363431.jpg&type=ofullfill80_80_q75_re2', 'link': 'http://www.fnnews.com/news/202001271711324279'}, {'title': \"'설 연휴 끝!' 명절증후군 이렇게 이겨보세요\", 'img': 'https://search.pstatic.net/common/?src=https%3A%2F%2Fimgnews.pstatic.net%2Fimage%2Forigin%2F003%2F2020%2F01%2F27%2F9670462.jpg&type=ofullfill80_80_q75_re2', 'link': 'http://www.newsis.com/view/?id=NISX20200123_0000897860&cID=10899&pID=10800'}, {'title': '명절 증후군, 다양한 안마 가전 이용하세요~', 'img': 'https://search.pstatic.net/common/?src=https%3A%2F%2Fimgnews.pstatic.net%2Fimage%2Forigin%2F030%2F2020%2F01%2F27%2F2864091.jpg&type=ofullfill80_80_q75_re2', 'link': 'http://www.etnews.com/20200127000111'}, {'title': \"속은 '답답' 한숨만 푹!…명절 증후군 극복법\", 'img': 'https://search.pstatic.net/common/?src=https%3A%2F%2Fimgnews.pstatic.net%2Fimage%2Forigin%2F008%2F2020%2F01%2F27%2F4345976.jpg&type=ofullfill80_80_q75_re2', 'link': 'http://news.mt.co.kr/mtview.php?no=2020012217094741502'}, {'title': \"명절 증후군 날려버릴 '핵잼' 서비스 다 모였다\", 'img': 'https://search.pstatic.net/common/?src=https%3A%2F%2Fimgnews.pstatic.net%2Fimage%2Forigin%2F277%2F2020%2F01%2F27%2F4612183.jpg&type=ofullfill80_80_q75_re2', 'link': 'https://view.asiae.co.kr/article/2020012615283378739'}, {'title': '\\'짧은 연휴 끝\\' 명절증후군은 이제 시작..\"이렇게 극복하세요\"', 'img': 'https://search.pstatic.net/common/?src=https%3A%2F%2Fimgnews.pstatic.net%2Fimage%2Forigin%2F014%2F2020%2F01%2F27%2F4363235.jpg&type=ofullfill80_80_q75_re2', 'link': 'http://www.fnnews.com/news/202001262009244722'}, {'title': \"[티브로드][전주][뉴스콕콕]말 못할 병 '명절 증후군'\", 'img': 'https://search.pstatic.net/common/?src=https%3A%2F%2Fimgnews.pstatic.net%2Fimage%2Forigin%2F5556%2F2020%2F01%2F28%2F42714.jpg&type=ofullfill80_80_q75_re2', 'link': 'http://ch1.tbroad.com/content/view?parent_no=24&content_no=64&p_no=96314'}, {'title': '[출근길 인터뷰] 몸과 마음 아프게 하는 명절증후군 해소법?', 'img': 'https://search.pstatic.net/common/?src=https%3A%2F%2Fimgnews.pstatic.net%2Fimage%2Forigin%2F422%2F2020%2F01%2F28%2F411924.jpg&type=ofullfill80_80_q75_re2', 'link': 'http://www.yonhapnewstv.co.kr/MYH20200128004400038/?did=1825m'}]\n"
     ]
    },
    {
     "data": {
      "text/plain": [
       "[{'title': '명절증후군 ‘호캉스’로 푼다',\n",
       "  'img': 'https://search.pstatic.net/common/?src=https%3A%2F%2Fimgnews.pstatic.net%2Fimage%2Forigin%2F092%2F2020%2F01%2F28%2F2179446.jpg&type=ofullfill80_80_q75_re2',\n",
       "  'link': 'http://www.zdnet.co.kr/view/?no=20200128085846'},\n",
       " {'title': '\"명절증후군, 안마의자로 시원하게 이겨내세요\"',\n",
       "  'img': 'https://search.pstatic.net/common/?src=https%3A%2F%2Fimgnews.pstatic.net%2Fimage%2Forigin%2F014%2F2020%2F01%2F27%2F4363431.jpg&type=ofullfill80_80_q75_re2',\n",
       "  'link': 'http://www.fnnews.com/news/202001271711324279'},\n",
       " {'title': \"'설 연휴 끝!' 명절증후군 이렇게 이겨보세요\",\n",
       "  'img': 'https://search.pstatic.net/common/?src=https%3A%2F%2Fimgnews.pstatic.net%2Fimage%2Forigin%2F003%2F2020%2F01%2F27%2F9670462.jpg&type=ofullfill80_80_q75_re2',\n",
       "  'link': 'http://www.newsis.com/view/?id=NISX20200123_0000897860&cID=10899&pID=10800'},\n",
       " {'title': '명절 증후군, 다양한 안마 가전 이용하세요~',\n",
       "  'img': 'https://search.pstatic.net/common/?src=https%3A%2F%2Fimgnews.pstatic.net%2Fimage%2Forigin%2F030%2F2020%2F01%2F27%2F2864091.jpg&type=ofullfill80_80_q75_re2',\n",
       "  'link': 'http://www.etnews.com/20200127000111'},\n",
       " {'title': \"속은 '답답' 한숨만 푹!…명절 증후군 극복법\",\n",
       "  'img': 'https://search.pstatic.net/common/?src=https%3A%2F%2Fimgnews.pstatic.net%2Fimage%2Forigin%2F008%2F2020%2F01%2F27%2F4345976.jpg&type=ofullfill80_80_q75_re2',\n",
       "  'link': 'http://news.mt.co.kr/mtview.php?no=2020012217094741502'},\n",
       " {'title': \"명절 증후군 날려버릴 '핵잼' 서비스 다 모였다\",\n",
       "  'img': 'https://search.pstatic.net/common/?src=https%3A%2F%2Fimgnews.pstatic.net%2Fimage%2Forigin%2F277%2F2020%2F01%2F27%2F4612183.jpg&type=ofullfill80_80_q75_re2',\n",
       "  'link': 'https://view.asiae.co.kr/article/2020012615283378739'},\n",
       " {'title': '\\'짧은 연휴 끝\\' 명절증후군은 이제 시작..\"이렇게 극복하세요\"',\n",
       "  'img': 'https://search.pstatic.net/common/?src=https%3A%2F%2Fimgnews.pstatic.net%2Fimage%2Forigin%2F014%2F2020%2F01%2F27%2F4363235.jpg&type=ofullfill80_80_q75_re2',\n",
       "  'link': 'http://www.fnnews.com/news/202001262009244722'},\n",
       " {'title': \"[티브로드][전주][뉴스콕콕]말 못할 병 '명절 증후군'\",\n",
       "  'img': 'https://search.pstatic.net/common/?src=https%3A%2F%2Fimgnews.pstatic.net%2Fimage%2Forigin%2F5556%2F2020%2F01%2F28%2F42714.jpg&type=ofullfill80_80_q75_re2',\n",
       "  'link': 'http://ch1.tbroad.com/content/view?parent_no=24&content_no=64&p_no=96314'},\n",
       " {'title': '[출근길 인터뷰] 몸과 마음 아프게 하는 명절증후군 해소법?',\n",
       "  'img': 'https://search.pstatic.net/common/?src=https%3A%2F%2Fimgnews.pstatic.net%2Fimage%2Forigin%2F422%2F2020%2F01%2F28%2F411924.jpg&type=ofullfill80_80_q75_re2',\n",
       "  'link': 'http://www.yonhapnewstv.co.kr/MYH20200128004400038/?did=1825m'},\n",
       " {'title': '[오늘의 창]민족 최대의 증후군',\n",
       "  'img': 'https://search.pstatic.net/common/?src=https%3A%2F%2Fimgnews.pstatic.net%2Fimage%2Forigin%2F5122%2F2020%2F01%2F27%2F820598.jpg&type=ofullfill80_80_q75_re2',\n",
       "  'link': 'http://www.kyeongin.com/main/view.php?key=20200127010006106'}]"
      ]
     },
     "execution_count": 27,
     "metadata": {},
     "output_type": "execute_result"
    }
   ],
   "source": [
    "news_list=[]\n",
    "for news_item in news_items:\n",
    "    img_tag=news_item.select('div.thumb img')\n",
    "    title_tag=news_item.select('a._sp_each_title')\n",
    "    if img_tag :\n",
    "        img=img_tag[0].get('src')\n",
    "    else :\n",
    "        img=''\n",
    "    print(news_list)\n",
    "\n",
    "    title=title_tag[0].text\n",
    "    link=title_tag[0].get('href')\n",
    "    news_list.append({\n",
    "        'title':title,\n",
    "        'img':img,\n",
    "        'link':link\n",
    "    })\n",
    "news_list"
   ]
  },
  {
   "cell_type": "code",
   "execution_count": 29,
   "metadata": {},
   "outputs": [
    {
     "data": {
      "text/plain": [
       "'https://search.pstatic.net/common/?src=https%3A%2F%2Fimgnews.pstatic.net%2Fimage%2Forigin%2F092%2F2020%2F01%2F28%2F2179446.jpg&type=ofullfill80_80_q75_re2'"
      ]
     },
     "execution_count": 29,
     "metadata": {},
     "output_type": "execute_result"
    }
   ],
   "source": [
    "sample_img=news_list[0]['img']\n",
    "sample_img"
   ]
  },
  {
   "cell_type": "code",
   "execution_count": 30,
   "metadata": {},
   "outputs": [
    {
     "data": {
      "text/plain": [
       "<Response [200]>"
      ]
     },
     "execution_count": 30,
     "metadata": {},
     "output_type": "execute_result"
    }
   ],
   "source": [
    "resp=requests.get(sample_img)\n",
    "resp"
   ]
  },
  {
   "cell_type": "markdown",
   "metadata": {},
   "source": [
    "### 파일 저장\n",
    "파일을 열면 꼭 닫아줘야 한다.->file.close()\n",
    "with를 사용하면 with절이 끝나면 자동으로 close를 호출해서 닫아준다.\n",
    "\n",
    "\"w\"는 쓰기 모드로 연다.\n",
    "\"r\"는 읽기 모드로 연다."
   ]
  },
  {
   "cell_type": "code",
   "execution_count": 34,
   "metadata": {},
   "outputs": [],
   "source": [
    "file=open(\"sample_txt.txt\",\"w\")\n",
    "file.write(\"hi\")\n",
    "file.close()"
   ]
  },
  {
   "cell_type": "code",
   "execution_count": 35,
   "metadata": {},
   "outputs": [
    {
     "name": "stdout",
     "output_type": "stream",
     "text": [
      "hi\n"
     ]
    }
   ],
   "source": [
    "with open(\"sample_txt.txt\",\"r\") as f:\n",
    "    content=f.read()\n",
    "    print(content)"
   ]
  },
  {
   "cell_type": "code",
   "execution_count": null,
   "metadata": {},
   "outputs": [],
   "source": [
    "with open(\"sample_img.png\",'wb')as f:\n",
    "    f.write(resp.content)"
   ]
  },
  {
   "cell_type": "code",
   "execution_count": 37,
   "metadata": {},
   "outputs": [],
   "source": [
    "import os\n",
    "from datetime import datetime"
   ]
  },
  {
   "cell_type": "markdown",
   "metadata": {},
   "source": [
    "## 이미지 저장"
   ]
  },
  {
   "cell_type": "code",
   "execution_count": 39,
   "metadata": {},
   "outputs": [],
   "source": [
    "#image폴더 생성\n",
    "\n",
    "if not os.path.exists('image'):\n",
    "    os.makedirs('image')\n",
    "img_dir='image'"
   ]
  },
  {
   "cell_type": "code",
   "execution_count": 42,
   "metadata": {},
   "outputs": [],
   "source": [
    "for idx,news in enumerate(news_list):\n",
    "    news_list[idx]['id']=idx\n",
    "    \n",
    "    resp= requests.get(news['img'])\n",
    "    \n",
    "    #file이름, 경로 지정\n",
    "    filename = \"{0}.png\".format(idx)\n",
    "    filepath=\"{0}/{1}\".format(img_dir,filename)\n",
    "    \n",
    "    with open(filepath,'wb') as f:\n",
    "        f.write(resp.content)\n",
    "    #image의 경로를 저장해줌\n",
    "    news_list[idx]['img_path']=filepath\n"
   ]
  },
  {
   "cell_type": "markdown",
   "metadata": {},
   "source": [
    "## pandas"
   ]
  },
  {
   "cell_type": "code",
   "execution_count": 44,
   "metadata": {},
   "outputs": [],
   "source": [
    "import pandas as pd"
   ]
  },
  {
   "cell_type": "code",
   "execution_count": 45,
   "metadata": {},
   "outputs": [],
   "source": [
    "news_df =pd.DataFrame(news_list)"
   ]
  },
  {
   "cell_type": "code",
   "execution_count": 46,
   "metadata": {
    "scrolled": true
   },
   "outputs": [
    {
     "data": {
      "text/html": [
       "<div>\n",
       "<style scoped>\n",
       "    .dataframe tbody tr th:only-of-type {\n",
       "        vertical-align: middle;\n",
       "    }\n",
       "\n",
       "    .dataframe tbody tr th {\n",
       "        vertical-align: top;\n",
       "    }\n",
       "\n",
       "    .dataframe thead th {\n",
       "        text-align: right;\n",
       "    }\n",
       "</style>\n",
       "<table border=\"1\" class=\"dataframe\">\n",
       "  <thead>\n",
       "    <tr style=\"text-align: right;\">\n",
       "      <th></th>\n",
       "      <th>title</th>\n",
       "      <th>img</th>\n",
       "      <th>link</th>\n",
       "      <th>id</th>\n",
       "      <th>img_path</th>\n",
       "    </tr>\n",
       "  </thead>\n",
       "  <tbody>\n",
       "    <tr>\n",
       "      <th>0</th>\n",
       "      <td>명절증후군 ‘호캉스’로 푼다</td>\n",
       "      <td>https://search.pstatic.net/common/?src=https%3...</td>\n",
       "      <td>http://www.zdnet.co.kr/view/?no=20200128085846</td>\n",
       "      <td>0</td>\n",
       "      <td>image/0.png</td>\n",
       "    </tr>\n",
       "    <tr>\n",
       "      <th>1</th>\n",
       "      <td>\"명절증후군, 안마의자로 시원하게 이겨내세요\"</td>\n",
       "      <td>https://search.pstatic.net/common/?src=https%3...</td>\n",
       "      <td>http://www.fnnews.com/news/202001271711324279</td>\n",
       "      <td>1</td>\n",
       "      <td>image/1.png</td>\n",
       "    </tr>\n",
       "    <tr>\n",
       "      <th>2</th>\n",
       "      <td>'설 연휴 끝!' 명절증후군 이렇게 이겨보세요</td>\n",
       "      <td>https://search.pstatic.net/common/?src=https%3...</td>\n",
       "      <td>http://www.newsis.com/view/?id=NISX20200123_00...</td>\n",
       "      <td>2</td>\n",
       "      <td>image/2.png</td>\n",
       "    </tr>\n",
       "    <tr>\n",
       "      <th>3</th>\n",
       "      <td>명절 증후군, 다양한 안마 가전 이용하세요~</td>\n",
       "      <td>https://search.pstatic.net/common/?src=https%3...</td>\n",
       "      <td>http://www.etnews.com/20200127000111</td>\n",
       "      <td>3</td>\n",
       "      <td>image/3.png</td>\n",
       "    </tr>\n",
       "    <tr>\n",
       "      <th>4</th>\n",
       "      <td>속은 '답답' 한숨만 푹!…명절 증후군 극복법</td>\n",
       "      <td>https://search.pstatic.net/common/?src=https%3...</td>\n",
       "      <td>http://news.mt.co.kr/mtview.php?no=20200122170...</td>\n",
       "      <td>4</td>\n",
       "      <td>image/4.png</td>\n",
       "    </tr>\n",
       "    <tr>\n",
       "      <th>5</th>\n",
       "      <td>명절 증후군 날려버릴 '핵잼' 서비스 다 모였다</td>\n",
       "      <td>https://search.pstatic.net/common/?src=https%3...</td>\n",
       "      <td>https://view.asiae.co.kr/article/2020012615283...</td>\n",
       "      <td>5</td>\n",
       "      <td>image/5.png</td>\n",
       "    </tr>\n",
       "    <tr>\n",
       "      <th>6</th>\n",
       "      <td>'짧은 연휴 끝' 명절증후군은 이제 시작..\"이렇게 극복하세요\"</td>\n",
       "      <td>https://search.pstatic.net/common/?src=https%3...</td>\n",
       "      <td>http://www.fnnews.com/news/202001262009244722</td>\n",
       "      <td>6</td>\n",
       "      <td>image/6.png</td>\n",
       "    </tr>\n",
       "    <tr>\n",
       "      <th>7</th>\n",
       "      <td>[티브로드][전주][뉴스콕콕]말 못할 병 '명절 증후군'</td>\n",
       "      <td>https://search.pstatic.net/common/?src=https%3...</td>\n",
       "      <td>http://ch1.tbroad.com/content/view?parent_no=2...</td>\n",
       "      <td>7</td>\n",
       "      <td>image/7.png</td>\n",
       "    </tr>\n",
       "    <tr>\n",
       "      <th>8</th>\n",
       "      <td>[출근길 인터뷰] 몸과 마음 아프게 하는 명절증후군 해소법?</td>\n",
       "      <td>https://search.pstatic.net/common/?src=https%3...</td>\n",
       "      <td>http://www.yonhapnewstv.co.kr/MYH2020012800440...</td>\n",
       "      <td>8</td>\n",
       "      <td>image/8.png</td>\n",
       "    </tr>\n",
       "    <tr>\n",
       "      <th>9</th>\n",
       "      <td>[오늘의 창]민족 최대의 증후군</td>\n",
       "      <td>https://search.pstatic.net/common/?src=https%3...</td>\n",
       "      <td>http://www.kyeongin.com/main/view.php?key=2020...</td>\n",
       "      <td>9</td>\n",
       "      <td>image/9.png</td>\n",
       "    </tr>\n",
       "  </tbody>\n",
       "</table>\n",
       "</div>"
      ],
      "text/plain": [
       "                                 title  \\\n",
       "0                      명절증후군 ‘호캉스’로 푼다   \n",
       "1            \"명절증후군, 안마의자로 시원하게 이겨내세요\"   \n",
       "2            '설 연휴 끝!' 명절증후군 이렇게 이겨보세요   \n",
       "3             명절 증후군, 다양한 안마 가전 이용하세요~   \n",
       "4            속은 '답답' 한숨만 푹!…명절 증후군 극복법   \n",
       "5           명절 증후군 날려버릴 '핵잼' 서비스 다 모였다   \n",
       "6  '짧은 연휴 끝' 명절증후군은 이제 시작..\"이렇게 극복하세요\"   \n",
       "7      [티브로드][전주][뉴스콕콕]말 못할 병 '명절 증후군'   \n",
       "8    [출근길 인터뷰] 몸과 마음 아프게 하는 명절증후군 해소법?   \n",
       "9                    [오늘의 창]민족 최대의 증후군   \n",
       "\n",
       "                                                 img  \\\n",
       "0  https://search.pstatic.net/common/?src=https%3...   \n",
       "1  https://search.pstatic.net/common/?src=https%3...   \n",
       "2  https://search.pstatic.net/common/?src=https%3...   \n",
       "3  https://search.pstatic.net/common/?src=https%3...   \n",
       "4  https://search.pstatic.net/common/?src=https%3...   \n",
       "5  https://search.pstatic.net/common/?src=https%3...   \n",
       "6  https://search.pstatic.net/common/?src=https%3...   \n",
       "7  https://search.pstatic.net/common/?src=https%3...   \n",
       "8  https://search.pstatic.net/common/?src=https%3...   \n",
       "9  https://search.pstatic.net/common/?src=https%3...   \n",
       "\n",
       "                                                link  id     img_path  \n",
       "0     http://www.zdnet.co.kr/view/?no=20200128085846   0  image/0.png  \n",
       "1      http://www.fnnews.com/news/202001271711324279   1  image/1.png  \n",
       "2  http://www.newsis.com/view/?id=NISX20200123_00...   2  image/2.png  \n",
       "3               http://www.etnews.com/20200127000111   3  image/3.png  \n",
       "4  http://news.mt.co.kr/mtview.php?no=20200122170...   4  image/4.png  \n",
       "5  https://view.asiae.co.kr/article/2020012615283...   5  image/5.png  \n",
       "6      http://www.fnnews.com/news/202001262009244722   6  image/6.png  \n",
       "7  http://ch1.tbroad.com/content/view?parent_no=2...   7  image/7.png  \n",
       "8  http://www.yonhapnewstv.co.kr/MYH2020012800440...   8  image/8.png  \n",
       "9  http://www.kyeongin.com/main/view.php?key=2020...   9  image/9.png  "
      ]
     },
     "execution_count": 46,
     "metadata": {},
     "output_type": "execute_result"
    }
   ],
   "source": [
    "news_df"
   ]
  },
  {
   "cell_type": "code",
   "execution_count": 49,
   "metadata": {},
   "outputs": [],
   "source": [
    "filename=\"newslist.csv\"\n",
    "\n",
    "#데이터가 깨져서 나오기 때문에 인코딩을 해줌.\n",
    "news_df.to_csv(filename, encoding='cp949')"
   ]
  },
  {
   "cell_type": "code",
   "execution_count": 53,
   "metadata": {},
   "outputs": [],
   "source": [
    "filename=\"newslist.xlsx\"\n",
    "news_df.to_excel(filename, encoding='cp949')"
   ]
  },
  {
   "cell_type": "code",
   "execution_count": 58,
   "metadata": {},
   "outputs": [
    {
     "data": {
      "text/html": [
       "<div>\n",
       "<style scoped>\n",
       "    .dataframe tbody tr th:only-of-type {\n",
       "        vertical-align: middle;\n",
       "    }\n",
       "\n",
       "    .dataframe tbody tr th {\n",
       "        vertical-align: top;\n",
       "    }\n",
       "\n",
       "    .dataframe thead th {\n",
       "        text-align: right;\n",
       "    }\n",
       "</style>\n",
       "<table border=\"1\" class=\"dataframe\">\n",
       "  <thead>\n",
       "    <tr style=\"text-align: right;\">\n",
       "      <th></th>\n",
       "      <th>title</th>\n",
       "      <th>img</th>\n",
       "      <th>link</th>\n",
       "      <th>id</th>\n",
       "      <th>img_path</th>\n",
       "    </tr>\n",
       "  </thead>\n",
       "  <tbody>\n",
       "    <tr>\n",
       "      <th>0</th>\n",
       "      <td>명절증후군 ‘호캉스’로 푼다</td>\n",
       "      <td>https://search.pstatic.net/common/?src=https%3...</td>\n",
       "      <td>http://www.zdnet.co.kr/view/?no=20200128085846</td>\n",
       "      <td>0</td>\n",
       "      <td>image/0.png</td>\n",
       "    </tr>\n",
       "    <tr>\n",
       "      <th>1</th>\n",
       "      <td>\"명절증후군, 안마의자로 시원하게 이겨내세요\"</td>\n",
       "      <td>https://search.pstatic.net/common/?src=https%3...</td>\n",
       "      <td>http://www.fnnews.com/news/202001271711324279</td>\n",
       "      <td>1</td>\n",
       "      <td>image/1.png</td>\n",
       "    </tr>\n",
       "    <tr>\n",
       "      <th>2</th>\n",
       "      <td>'설 연휴 끝!' 명절증후군 이렇게 이겨보세요</td>\n",
       "      <td>https://search.pstatic.net/common/?src=https%3...</td>\n",
       "      <td>http://www.newsis.com/view/?id=NISX20200123_00...</td>\n",
       "      <td>2</td>\n",
       "      <td>image/2.png</td>\n",
       "    </tr>\n",
       "    <tr>\n",
       "      <th>3</th>\n",
       "      <td>명절 증후군, 다양한 안마 가전 이용하세요~</td>\n",
       "      <td>https://search.pstatic.net/common/?src=https%3...</td>\n",
       "      <td>http://www.etnews.com/20200127000111</td>\n",
       "      <td>3</td>\n",
       "      <td>image/3.png</td>\n",
       "    </tr>\n",
       "    <tr>\n",
       "      <th>4</th>\n",
       "      <td>속은 '답답' 한숨만 푹!…명절 증후군 극복법</td>\n",
       "      <td>https://search.pstatic.net/common/?src=https%3...</td>\n",
       "      <td>http://news.mt.co.kr/mtview.php?no=20200122170...</td>\n",
       "      <td>4</td>\n",
       "      <td>image/4.png</td>\n",
       "    </tr>\n",
       "    <tr>\n",
       "      <th>5</th>\n",
       "      <td>명절 증후군 날려버릴 '핵잼' 서비스 다 모였다</td>\n",
       "      <td>https://search.pstatic.net/common/?src=https%3...</td>\n",
       "      <td>https://view.asiae.co.kr/article/2020012615283...</td>\n",
       "      <td>5</td>\n",
       "      <td>image/5.png</td>\n",
       "    </tr>\n",
       "    <tr>\n",
       "      <th>6</th>\n",
       "      <td>'짧은 연휴 끝' 명절증후군은 이제 시작..\"이렇게 극복하세요\"</td>\n",
       "      <td>https://search.pstatic.net/common/?src=https%3...</td>\n",
       "      <td>http://www.fnnews.com/news/202001262009244722</td>\n",
       "      <td>6</td>\n",
       "      <td>image/6.png</td>\n",
       "    </tr>\n",
       "    <tr>\n",
       "      <th>7</th>\n",
       "      <td>[티브로드][전주][뉴스콕콕]말 못할 병 '명절 증후군'</td>\n",
       "      <td>https://search.pstatic.net/common/?src=https%3...</td>\n",
       "      <td>http://ch1.tbroad.com/content/view?parent_no=2...</td>\n",
       "      <td>7</td>\n",
       "      <td>image/7.png</td>\n",
       "    </tr>\n",
       "    <tr>\n",
       "      <th>8</th>\n",
       "      <td>[출근길 인터뷰] 몸과 마음 아프게 하는 명절증후군 해소법?</td>\n",
       "      <td>https://search.pstatic.net/common/?src=https%3...</td>\n",
       "      <td>http://www.yonhapnewstv.co.kr/MYH2020012800440...</td>\n",
       "      <td>8</td>\n",
       "      <td>image/8.png</td>\n",
       "    </tr>\n",
       "    <tr>\n",
       "      <th>9</th>\n",
       "      <td>[오늘의 창]민족 최대의 증후군</td>\n",
       "      <td>https://search.pstatic.net/common/?src=https%3...</td>\n",
       "      <td>http://www.kyeongin.com/main/view.php?key=2020...</td>\n",
       "      <td>9</td>\n",
       "      <td>image/9.png</td>\n",
       "    </tr>\n",
       "  </tbody>\n",
       "</table>\n",
       "</div>"
      ],
      "text/plain": [
       "                                 title  \\\n",
       "0                      명절증후군 ‘호캉스’로 푼다   \n",
       "1            \"명절증후군, 안마의자로 시원하게 이겨내세요\"   \n",
       "2            '설 연휴 끝!' 명절증후군 이렇게 이겨보세요   \n",
       "3             명절 증후군, 다양한 안마 가전 이용하세요~   \n",
       "4            속은 '답답' 한숨만 푹!…명절 증후군 극복법   \n",
       "5           명절 증후군 날려버릴 '핵잼' 서비스 다 모였다   \n",
       "6  '짧은 연휴 끝' 명절증후군은 이제 시작..\"이렇게 극복하세요\"   \n",
       "7      [티브로드][전주][뉴스콕콕]말 못할 병 '명절 증후군'   \n",
       "8    [출근길 인터뷰] 몸과 마음 아프게 하는 명절증후군 해소법?   \n",
       "9                    [오늘의 창]민족 최대의 증후군   \n",
       "\n",
       "                                                 img  \\\n",
       "0  https://search.pstatic.net/common/?src=https%3...   \n",
       "1  https://search.pstatic.net/common/?src=https%3...   \n",
       "2  https://search.pstatic.net/common/?src=https%3...   \n",
       "3  https://search.pstatic.net/common/?src=https%3...   \n",
       "4  https://search.pstatic.net/common/?src=https%3...   \n",
       "5  https://search.pstatic.net/common/?src=https%3...   \n",
       "6  https://search.pstatic.net/common/?src=https%3...   \n",
       "7  https://search.pstatic.net/common/?src=https%3...   \n",
       "8  https://search.pstatic.net/common/?src=https%3...   \n",
       "9  https://search.pstatic.net/common/?src=https%3...   \n",
       "\n",
       "                                                link  id     img_path  \n",
       "0     http://www.zdnet.co.kr/view/?no=20200128085846   0  image/0.png  \n",
       "1      http://www.fnnews.com/news/202001271711324279   1  image/1.png  \n",
       "2  http://www.newsis.com/view/?id=NISX20200123_00...   2  image/2.png  \n",
       "3               http://www.etnews.com/20200127000111   3  image/3.png  \n",
       "4  http://news.mt.co.kr/mtview.php?no=20200122170...   4  image/4.png  \n",
       "5  https://view.asiae.co.kr/article/2020012615283...   5  image/5.png  \n",
       "6      http://www.fnnews.com/news/202001262009244722   6  image/6.png  \n",
       "7  http://ch1.tbroad.com/content/view?parent_no=2...   7  image/7.png  \n",
       "8  http://www.yonhapnewstv.co.kr/MYH2020012800440...   8  image/8.png  \n",
       "9  http://www.kyeongin.com/main/view.php?key=2020...   9  image/9.png  "
      ]
     },
     "execution_count": 58,
     "metadata": {},
     "output_type": "execute_result"
    }
   ],
   "source": [
    "filename=\"newslist.csv\"\n",
    "new_df=pd.read_csv(filename,encoding='cp949',index_col=0)\n",
    "new_df"
   ]
  },
  {
   "cell_type": "code",
   "execution_count": 59,
   "metadata": {},
   "outputs": [
    {
     "data": {
      "text/html": [
       "<div>\n",
       "<style scoped>\n",
       "    .dataframe tbody tr th:only-of-type {\n",
       "        vertical-align: middle;\n",
       "    }\n",
       "\n",
       "    .dataframe tbody tr th {\n",
       "        vertical-align: top;\n",
       "    }\n",
       "\n",
       "    .dataframe thead th {\n",
       "        text-align: right;\n",
       "    }\n",
       "</style>\n",
       "<table border=\"1\" class=\"dataframe\">\n",
       "  <thead>\n",
       "    <tr style=\"text-align: right;\">\n",
       "      <th></th>\n",
       "      <th>title</th>\n",
       "      <th>img</th>\n",
       "      <th>link</th>\n",
       "      <th>id</th>\n",
       "      <th>img_path</th>\n",
       "    </tr>\n",
       "  </thead>\n",
       "  <tbody>\n",
       "    <tr>\n",
       "      <th>0</th>\n",
       "      <td>명절증후군 ‘호캉스’로 푼다</td>\n",
       "      <td>https://search.pstatic.net/common/?src=https%3...</td>\n",
       "      <td>http://www.zdnet.co.kr/view/?no=20200128085846</td>\n",
       "      <td>0</td>\n",
       "      <td>image/0.png</td>\n",
       "    </tr>\n",
       "    <tr>\n",
       "      <th>1</th>\n",
       "      <td>\"명절증후군, 안마의자로 시원하게 이겨내세요\"</td>\n",
       "      <td>https://search.pstatic.net/common/?src=https%3...</td>\n",
       "      <td>http://www.fnnews.com/news/202001271711324279</td>\n",
       "      <td>1</td>\n",
       "      <td>image/1.png</td>\n",
       "    </tr>\n",
       "    <tr>\n",
       "      <th>2</th>\n",
       "      <td>'설 연휴 끝!' 명절증후군 이렇게 이겨보세요</td>\n",
       "      <td>https://search.pstatic.net/common/?src=https%3...</td>\n",
       "      <td>http://www.newsis.com/view/?id=NISX20200123_00...</td>\n",
       "      <td>2</td>\n",
       "      <td>image/2.png</td>\n",
       "    </tr>\n",
       "    <tr>\n",
       "      <th>3</th>\n",
       "      <td>명절 증후군, 다양한 안마 가전 이용하세요~</td>\n",
       "      <td>https://search.pstatic.net/common/?src=https%3...</td>\n",
       "      <td>http://www.etnews.com/20200127000111</td>\n",
       "      <td>3</td>\n",
       "      <td>image/3.png</td>\n",
       "    </tr>\n",
       "    <tr>\n",
       "      <th>4</th>\n",
       "      <td>속은 '답답' 한숨만 푹!…명절 증후군 극복법</td>\n",
       "      <td>https://search.pstatic.net/common/?src=https%3...</td>\n",
       "      <td>http://news.mt.co.kr/mtview.php?no=20200122170...</td>\n",
       "      <td>4</td>\n",
       "      <td>image/4.png</td>\n",
       "    </tr>\n",
       "    <tr>\n",
       "      <th>5</th>\n",
       "      <td>명절 증후군 날려버릴 '핵잼' 서비스 다 모였다</td>\n",
       "      <td>https://search.pstatic.net/common/?src=https%3...</td>\n",
       "      <td>https://view.asiae.co.kr/article/2020012615283...</td>\n",
       "      <td>5</td>\n",
       "      <td>image/5.png</td>\n",
       "    </tr>\n",
       "    <tr>\n",
       "      <th>6</th>\n",
       "      <td>'짧은 연휴 끝' 명절증후군은 이제 시작..\"이렇게 극복하세요\"</td>\n",
       "      <td>https://search.pstatic.net/common/?src=https%3...</td>\n",
       "      <td>http://www.fnnews.com/news/202001262009244722</td>\n",
       "      <td>6</td>\n",
       "      <td>image/6.png</td>\n",
       "    </tr>\n",
       "    <tr>\n",
       "      <th>7</th>\n",
       "      <td>[티브로드][전주][뉴스콕콕]말 못할 병 '명절 증후군'</td>\n",
       "      <td>https://search.pstatic.net/common/?src=https%3...</td>\n",
       "      <td>http://ch1.tbroad.com/content/view?parent_no=2...</td>\n",
       "      <td>7</td>\n",
       "      <td>image/7.png</td>\n",
       "    </tr>\n",
       "    <tr>\n",
       "      <th>8</th>\n",
       "      <td>[출근길 인터뷰] 몸과 마음 아프게 하는 명절증후군 해소법?</td>\n",
       "      <td>https://search.pstatic.net/common/?src=https%3...</td>\n",
       "      <td>http://www.yonhapnewstv.co.kr/MYH2020012800440...</td>\n",
       "      <td>8</td>\n",
       "      <td>image/8.png</td>\n",
       "    </tr>\n",
       "    <tr>\n",
       "      <th>9</th>\n",
       "      <td>[오늘의 창]민족 최대의 증후군</td>\n",
       "      <td>https://search.pstatic.net/common/?src=https%3...</td>\n",
       "      <td>http://www.kyeongin.com/main/view.php?key=2020...</td>\n",
       "      <td>9</td>\n",
       "      <td>image/9.png</td>\n",
       "    </tr>\n",
       "  </tbody>\n",
       "</table>\n",
       "</div>"
      ],
      "text/plain": [
       "                                 title  \\\n",
       "0                      명절증후군 ‘호캉스’로 푼다   \n",
       "1            \"명절증후군, 안마의자로 시원하게 이겨내세요\"   \n",
       "2            '설 연휴 끝!' 명절증후군 이렇게 이겨보세요   \n",
       "3             명절 증후군, 다양한 안마 가전 이용하세요~   \n",
       "4            속은 '답답' 한숨만 푹!…명절 증후군 극복법   \n",
       "5           명절 증후군 날려버릴 '핵잼' 서비스 다 모였다   \n",
       "6  '짧은 연휴 끝' 명절증후군은 이제 시작..\"이렇게 극복하세요\"   \n",
       "7      [티브로드][전주][뉴스콕콕]말 못할 병 '명절 증후군'   \n",
       "8    [출근길 인터뷰] 몸과 마음 아프게 하는 명절증후군 해소법?   \n",
       "9                    [오늘의 창]민족 최대의 증후군   \n",
       "\n",
       "                                                 img  \\\n",
       "0  https://search.pstatic.net/common/?src=https%3...   \n",
       "1  https://search.pstatic.net/common/?src=https%3...   \n",
       "2  https://search.pstatic.net/common/?src=https%3...   \n",
       "3  https://search.pstatic.net/common/?src=https%3...   \n",
       "4  https://search.pstatic.net/common/?src=https%3...   \n",
       "5  https://search.pstatic.net/common/?src=https%3...   \n",
       "6  https://search.pstatic.net/common/?src=https%3...   \n",
       "7  https://search.pstatic.net/common/?src=https%3...   \n",
       "8  https://search.pstatic.net/common/?src=https%3...   \n",
       "9  https://search.pstatic.net/common/?src=https%3...   \n",
       "\n",
       "                                                link  id     img_path  \n",
       "0     http://www.zdnet.co.kr/view/?no=20200128085846   0  image/0.png  \n",
       "1      http://www.fnnews.com/news/202001271711324279   1  image/1.png  \n",
       "2  http://www.newsis.com/view/?id=NISX20200123_00...   2  image/2.png  \n",
       "3               http://www.etnews.com/20200127000111   3  image/3.png  \n",
       "4  http://news.mt.co.kr/mtview.php?no=20200122170...   4  image/4.png  \n",
       "5  https://view.asiae.co.kr/article/2020012615283...   5  image/5.png  \n",
       "6      http://www.fnnews.com/news/202001262009244722   6  image/6.png  \n",
       "7  http://ch1.tbroad.com/content/view?parent_no=2...   7  image/7.png  \n",
       "8  http://www.yonhapnewstv.co.kr/MYH2020012800440...   8  image/8.png  \n",
       "9  http://www.kyeongin.com/main/view.php?key=2020...   9  image/9.png  "
      ]
     },
     "execution_count": 59,
     "metadata": {},
     "output_type": "execute_result"
    }
   ],
   "source": [
    "filename=\"newslist.xlsx\"\n",
    "new_df=pd.read_excel(filename,encoding='cp949',index_col=0)\n",
    "new_df"
   ]
  },
  {
   "cell_type": "code",
   "execution_count": null,
   "metadata": {},
   "outputs": [],
   "source": []
  },
  {
   "cell_type": "code",
   "execution_count": null,
   "metadata": {},
   "outputs": [],
   "source": []
  },
  {
   "cell_type": "code",
   "execution_count": null,
   "metadata": {},
   "outputs": [],
   "source": []
  }
 ],
 "metadata": {
  "kernelspec": {
   "display_name": "Python 3",
   "language": "python",
   "name": "python3"
  },
  "language_info": {
   "codemirror_mode": {
    "name": "ipython",
    "version": 3
   },
   "file_extension": ".py",
   "mimetype": "text/x-python",
   "name": "python",
   "nbconvert_exporter": "python",
   "pygments_lexer": "ipython3",
   "version": "3.7.6"
  }
 },
 "nbformat": 4,
 "nbformat_minor": 2
}
