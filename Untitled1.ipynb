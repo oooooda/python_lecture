{
 "cells": [
  {
   "cell_type": "markdown",
   "metadata": {},
   "source": [
    "# 연습문제6 (가위바위보게임만들기)\n",
    "1~3 을입력하면게임진행이외의숫자를입력하면게임종료"
   ]
  },
  {
   "cell_type": "code",
   "execution_count": 18,
   "metadata": {},
   "outputs": [
    {
     "name": "stdout",
     "output_type": "stream",
     "text": [
      "가위(1), 바위(2), 보(3) 을입력해주세요! :1\n",
      "유저:가위, 컴퓨터:바위\n",
      "가위(1), 바위(2), 보(3) 을입력해주세요! :3\n",
      "유저:보, 컴퓨터:가위\n",
      "가위(1), 바위(2), 보(3) 을입력해주세요! :5\n",
      "게임 종료 (전체:2, 승리:0,비김:0)\n"
     ]
    }
   ],
   "source": [
    "import random\n",
    "random.random()\n",
    "random.randint(1,3)\n",
    "user=1;\n",
    "count,win,draw=0,0,0;\n",
    "name=[\" \",\"가위\",\"바위\",\"보\"]\n",
    "\n",
    "while user<=3 and user !=0:\n",
    "    import random\n",
    "    random.random()\n",
    "    random=random.randint(1,3)\n",
    "    user=int(input(\"가위(1), 바위(2), 보(3) 을입력해주세요! :\"))\n",
    "    if user==1:\n",
    "        if random==3:\n",
    "            win+=1 \n",
    "        elif(random==user):\n",
    "            draw+=1\n",
    "        count+=1\n",
    "        print(\"유저:{}, 컴퓨터:{}\".format(name[user],name[random]))\n",
    "    elif user==2:\n",
    "        if random==1:\n",
    "            win+=1\n",
    "        elif(random==user):\n",
    "            draw+=1\n",
    "        count+=1\n",
    "        print(\"유저:{}, 컴퓨터:{}\".format(name[user],name[random]))\n",
    "    elif user==3:\n",
    "        if random==2:\n",
    "            win+=1\n",
    "        elif(random==user):\n",
    "            draw+=1\n",
    "        count+=1\n",
    "        print(\"유저:{}, 컴퓨터:{}\".format(name[user],name[random]))\n",
    "    \n",
    "print(\"게임 종료 (전체:{}, 승리:{},비김:{})\".format(count,win,draw))"
   ]
  },
  {
   "cell_type": "code",
   "execution_count": 22,
   "metadata": {},
   "outputs": [
    {
     "name": "stdout",
     "output_type": "stream",
     "text": [
      "가위(1), 바위(2), 보(3) 을입력해주세요! :1\n",
      "유저:가위, 컴퓨터:가위\n",
      "가위(1), 바위(2), 보(3) 을입력해주세요! :2\n",
      "가위(1), 바위(2), 보(3) 을입력해주세요! :3\n",
      "가위(1), 바위(2), 보(3) 을입력해주세요! :1\n",
      "유저:가위, 컴퓨터:보\n",
      "가위(1), 바위(2), 보(3) 을입력해주세요! :2\n",
      "유저:바위, 컴퓨터:바위\n",
      "가위(1), 바위(2), 보(3) 을입력해주세요! :5\n",
      "게임 종료 (전체:6, 승리:1,비김:2)\n"
     ]
    }
   ],
   "source": [
    "import random\n",
    "random.random()\n",
    "random.randint(1,3)\n",
    "user=1;\n",
    "count,win,draw=0,0,0;\n",
    "name=[\" \",\"가위\",\"바위\",\"보\"]\n",
    "\n",
    "while user in[1,2,3]:\n",
    "    import random\n",
    "    random.random()\n",
    "    random=random.randint(1,3)\n",
    "    user=int(input(\"가위(1), 바위(2), 보(3) 을입력해주세요! :\"))\n",
    "    count+=1\n",
    "    if (user==1 and random==3):\n",
    "        win+=1 \n",
    "        print(\"유저:{}, 컴퓨터:{}\".format(name[user],name[random]))\n",
    "    elif (user==2 and random==1):\n",
    "        win+=1\n",
    "        print(\"유저:{}, 컴퓨터:{}\".format(name[user],name[random]))\n",
    "    elif (user==3 and random==2):\n",
    "        win+=1\n",
    "        print(\"유저:{}, 컴퓨터:{}\".format(name[user],name[random]))\n",
    "    elif(random==user):\n",
    "        draw+=1\n",
    "        print(\"유저:{}, 컴퓨터:{}\".format(name[user],name[random]))\n",
    "            \n",
    "print(\"게임 종료 (전체:{}, 승리:{},비김:{})\".format(count,win,draw))"
   ]
  },
  {
   "cell_type": "markdown",
   "metadata": {},
   "source": [
    "# 오른쪽수열은‘개미수열’이라고불립니다.사용자로부터n값을입력받아서 n번째위치에있는수열을출력하시오."
   ]
  },
  {
   "cell_type": "code",
   "execution_count": 11,
   "metadata": {},
   "outputs": [
    {
     "name": "stdout",
     "output_type": "stream",
     "text": [
      "[1, [1, 1], [1], [1], [1], [1]]\n"
     ]
    }
   ],
   "source": [
    "#num=int(input(\"정수를 입력하세요:\"))\n",
    "co=1\n",
    "a=[1]\n",
    "for i in range(5):\n",
    "    if len(a)==1:\n",
    "        a.append([a[0],a.count(a[0])])\n",
    "    else:\n",
    "        a.append([a[i][0]])\n",
    "        for word in a[i]:\n",
    "            if a[i][0]==word:\n",
    "                co+=1\n",
    "            else:\n",
    "                a[i+1].apppend(co)\n",
    "                co=1\n",
    "        \n",
    "            \n",
    "        \n",
    "print(a)\n",
    "        \n",
    "    "
   ]
  },
  {
   "cell_type": "code",
   "execution_count": 9,
   "metadata": {},
   "outputs": [
    {
     "name": "stdout",
     "output_type": "stream",
     "text": [
      "[1, 1]\n",
      "[1, [1, 1]]\n",
      "[1, 1]\n",
      "2\n",
      "1\n",
      "3\n",
      "1\n"
     ]
    }
   ],
   "source": [
    "d=1\n",
    "a=[1]\n",
    "if len(a)==1:\n",
    "    a.append([a[0],a.count(a[0])])\n",
    "print(c)\n",
    "print(a)\n",
    "c=a[1]\n",
    "print(c)\n",
    "for word in a[1]:\n",
    "    if a[1][0]==word:\n",
    "        d+=1\n",
    "    print(d)\n",
    "    print(word)"
   ]
  },
  {
   "cell_type": "code",
   "execution_count": 6,
   "metadata": {},
   "outputs": [
    {
     "name": "stdout",
     "output_type": "stream",
     "text": [
      "[1, 1]\n",
      "[1, [1, 1]]\n",
      "[1, 1]\n",
      "2\n",
      "1\n",
      "3\n",
      "1\n"
     ]
    }
   ],
   "source": [
    "d=1\n",
    "a=[1]\n",
    "if len(a)==1:\n",
    "    a.append([a[0],a.count(a[0])])\n",
    "print(c)\n",
    "print(a)\n",
    "c=a[1]\n",
    "print(c)\n",
    "for word in a[1]:\n",
    "    if a[1][0]==word:\n",
    "        d+=1\n",
    "    print(d)\n",
    "    print(word)"
   ]
  },
  {
   "cell_type": "code",
   "execution_count": null,
   "metadata": {},
   "outputs": [],
   "source": [
    "\n",
    "a=[1]\n",
    "for i in range(5):\n",
    "    if len(a)==1:\n",
    "        a.append([a[0],a.count(a[0])])\n",
    "    else:\n",
    "        a.append([a[i][0]])\n",
    "        a[i+1].append(a[i].count(a[i][0]))\n",
    "        \n",
    "print(a)"
   ]
  },
  {
   "cell_type": "code",
   "execution_count": 106,
   "metadata": {},
   "outputs": [
    {
     "name": "stdout",
     "output_type": "stream",
     "text": [
      "1\n",
      "1\n",
      "2\n",
      "1\n"
     ]
    }
   ],
   "source": [
    "resualt='1121'\n",
    "for word in resualt:\n",
    "    print(word)"
   ]
  },
  {
   "cell_type": "code",
   "execution_count": null,
   "metadata": {},
   "outputs": [],
   "source": []
  },
  {
   "cell_type": "code",
   "execution_count": null,
   "metadata": {},
   "outputs": [],
   "source": []
  },
  {
   "cell_type": "code",
   "execution_count": null,
   "metadata": {},
   "outputs": [],
   "source": []
  },
  {
   "cell_type": "code",
   "execution_count": null,
   "metadata": {},
   "outputs": [],
   "source": []
  },
  {
   "cell_type": "code",
   "execution_count": null,
   "metadata": {},
   "outputs": [],
   "source": []
  },
  {
   "cell_type": "code",
   "execution_count": null,
   "metadata": {},
   "outputs": [],
   "source": []
  },
  {
   "cell_type": "code",
   "execution_count": null,
   "metadata": {},
   "outputs": [],
   "source": []
  }
 ],
 "metadata": {
  "kernelspec": {
   "display_name": "Python 3",
   "language": "python",
   "name": "python3"
  },
  "language_info": {
   "codemirror_mode": {
    "name": "ipython",
    "version": 3
   },
   "file_extension": ".py",
   "mimetype": "text/x-python",
   "name": "python",
   "nbconvert_exporter": "python",
   "pygments_lexer": "ipython3",
   "version": "3.7.4"
  }
 },
 "nbformat": 4,
 "nbformat_minor": 2
}
